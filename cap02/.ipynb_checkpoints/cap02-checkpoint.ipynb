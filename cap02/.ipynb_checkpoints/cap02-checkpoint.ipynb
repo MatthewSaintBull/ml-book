{
 "cells": [
  {
   "cell_type": "markdown",
   "metadata": {},
   "source": [
    "# Capitolo 2: \n",
    "# Gestione dei Dati: iPython, Numpy e Pandas"
   ]
  },
  {
   "cell_type": "code",
   "execution_count": 2,
   "metadata": {
    "collapsed": true
   },
   "outputs": [],
   "source": [
    "def somma(a, b):\n",
    "    \"\"\"\n",
    "    Questa funzione somma due interi (a+b)\n",
    "    \"\"\"\n",
    "    return a + b\n",
    "\n",
    "?somma"
   ]
  },
  {
   "cell_type": "code",
   "execution_count": 3,
   "metadata": {
    "collapsed": true
   },
   "outputs": [],
   "source": [
    "from numpy import sum\n",
    "\n",
    "sum??"
   ]
  },
  {
   "cell_type": "code",
   "execution_count": 4,
   "metadata": {
    "collapsed": true
   },
   "outputs": [],
   "source": [
    "*Error?"
   ]
  },
  {
   "cell_type": "code",
   "execution_count": 5,
   "metadata": {},
   "outputs": [
    {
     "name": "stdout",
     "output_type": "stream",
     "text": [
      "prova1 0.06 sec\n"
     ]
    }
   ],
   "source": [
    "import time\n",
    "\n",
    "def tempo_di_esecuzione(metodo):\n",
    "    def tempo_trascorso(*args, **kw):\n",
    "        tempo_inizio = time.time()\n",
    "        risultato = metodo(*args, **kw)\n",
    "        tempo_fine = time.time()\n",
    "\n",
    "        print('{0} {1:.2f} sec'.format(\n",
    "              metodo.__name__, tempo_fine - tempo_inizio))\n",
    "        return risultato\n",
    "    return tempo_trascorso\n",
    "\n",
    "\n",
    "@tempo_di_esecuzione\n",
    "def prova1():\n",
    "    a = [x for x in range(1000000)]\n",
    "\n",
    "prova1()"
   ]
  },
  {
   "cell_type": "code",
   "execution_count": 6,
   "metadata": {},
   "outputs": [
    {
     "name": "stdout",
     "output_type": "stream",
     "text": [
      "42.4 ms ± 132 µs per loop (mean ± std. dev. of 7 runs, 10 loops each)\n"
     ]
    }
   ],
   "source": [
    "def prova1():\n",
    "     a = [x for x in range(1000000)]\n",
    "\n",
    "%timeit prova1()"
   ]
  },
  {
   "cell_type": "code",
   "execution_count": 7,
   "metadata": {},
   "outputs": [
    {
     "name": "stdout",
     "output_type": "stream",
     "text": [
      "Linux TM1613 4.10.0-40-generic #44-Ubuntu SMP Thu Nov 9 14:49:09 UTC 2017 x86_64 x86_64 x86_64 GNU/Linux\r\n"
     ]
    }
   ],
   "source": [
    "!uname -a"
   ]
  },
  {
   "cell_type": "code",
   "execution_count": 8,
   "metadata": {},
   "outputs": [
    {
     "name": "stdout",
     "output_type": "stream",
     "text": [
      "['/home/alessandro/Documents/book/machine_learning/src/cap02']\n"
     ]
    }
   ],
   "source": [
    "il_mio_path = !pwd\n",
    "print(il_mio_path)"
   ]
  },
  {
   "cell_type": "markdown",
   "metadata": {},
   "source": [
    "In questa cella, potremo inserire:\n",
    "1. Testo Semplice\n",
    "2. Corsivo, usando gli *asterischi* singoli\n",
    "3. Grassetto, usando quelli **doppi**\n",
    "4. Testo sbarrato, usando le doppie ~~tilde~~\n",
    "\n",
    "Ah si, anche creare liste numerate (come abbiamo appena fatto), e non:\n",
    "- questo è un elemento di una lista\n",
    "- questo è un altro elemento\n",
    "\n",
    "> Questa invece è una citazione!\n",
    "\n",
    "Possiamo anche inserire [link](https://www.python.org/),\n",
    "immagini: \n",
    "![alt text](https://www.python.org/static/opengraph-icon-200x200.png\n",
    "\"Logo Python\")\n",
    "e addirittura tabelle:\n",
    "\n",
    "| A                | B             | C           |\n",
    "| ---------------- |:-------------:| -----------:|\n",
    "| 1                | 2             | 3           |\n",
    "| testo a sinistra | centrato      |  o a destra |"
   ]
  },
  {
   "cell_type": "code",
   "execution_count": 9,
   "metadata": {},
   "outputs": [
    {
     "data": {
      "text/plain": [
       "array([1, 2, 3, 4, 5])"
      ]
     },
     "execution_count": 9,
     "metadata": {},
     "output_type": "execute_result"
    }
   ],
   "source": [
    "import numpy as np\n",
    "\n",
    "np.array([1,2,3,4,5])"
   ]
  },
  {
   "cell_type": "code",
   "execution_count": 10,
   "metadata": {},
   "outputs": [
    {
     "data": {
      "text/plain": [
       "[1, 2, 3, 4, 5, 6]"
      ]
     },
     "execution_count": 10,
     "metadata": {},
     "output_type": "execute_result"
    }
   ],
   "source": [
    "l = [1,2,3,4,5]  # lista Python\n",
    "a = np.array([1,2,3,4,5])  # array Numpy\n",
    "l.append(6)  \n",
    "l"
   ]
  },
  {
   "cell_type": "code",
   "execution_count": 11,
   "metadata": {},
   "outputs": [
    {
     "data": {
      "text/plain": [
       "array([1, 2, 3, 4, 5, 6])"
      ]
     },
     "execution_count": 11,
     "metadata": {},
     "output_type": "execute_result"
    }
   ],
   "source": [
    "np.append(a, 6) "
   ]
  },
  {
   "cell_type": "code",
   "execution_count": 12,
   "metadata": {},
   "outputs": [
    {
     "data": {
      "text/plain": [
       "array([1, 2, 3, 4, 5])"
      ]
     },
     "execution_count": 12,
     "metadata": {},
     "output_type": "execute_result"
    }
   ],
   "source": [
    "a"
   ]
  },
  {
   "cell_type": "code",
   "execution_count": 13,
   "metadata": {
    "collapsed": true
   },
   "outputs": [],
   "source": [
    "a = np.append(a, 6)"
   ]
  },
  {
   "cell_type": "code",
   "execution_count": 14,
   "metadata": {},
   "outputs": [
    {
     "data": {
      "text/plain": [
       "True"
      ]
     },
     "execution_count": 14,
     "metadata": {},
     "output_type": "execute_result"
    }
   ],
   "source": [
    "l[0] == a[0]"
   ]
  },
  {
   "cell_type": "code",
   "execution_count": 15,
   "metadata": {},
   "outputs": [
    {
     "data": {
      "text/plain": [
       "[1, 2, 3]"
      ]
     },
     "execution_count": 15,
     "metadata": {},
     "output_type": "execute_result"
    }
   ],
   "source": [
    "l[:-3]"
   ]
  },
  {
   "cell_type": "code",
   "execution_count": 16,
   "metadata": {},
   "outputs": [
    {
     "data": {
      "text/plain": [
       "array([1, 2, 3])"
      ]
     },
     "execution_count": 16,
     "metadata": {},
     "output_type": "execute_result"
    }
   ],
   "source": [
    "a[:-3]"
   ]
  },
  {
   "cell_type": "code",
   "execution_count": 17,
   "metadata": {},
   "outputs": [
    {
     "data": {
      "text/plain": [
       "array([ True,  True,  True], dtype=bool)"
      ]
     },
     "execution_count": 17,
     "metadata": {},
     "output_type": "execute_result"
    }
   ],
   "source": [
    "l[:-3] == a[:-3]"
   ]
  },
  {
   "cell_type": "code",
   "execution_count": 18,
   "metadata": {},
   "outputs": [
    {
     "data": {
      "text/plain": [
       "True"
      ]
     },
     "execution_count": 18,
     "metadata": {},
     "output_type": "execute_result"
    }
   ],
   "source": [
    "all(l[:-3] == a[:-3])"
   ]
  },
  {
   "cell_type": "code",
   "execution_count": 27,
   "metadata": {},
   "outputs": [],
   "source": [
    "l = [1, \"ciao\", False]\n",
    "a = np.array([1, \"ciao\", False])"
   ]
  },
  {
   "cell_type": "code",
   "execution_count": 28,
   "metadata": {},
   "outputs": [
    {
     "data": {
      "text/plain": [
       "[int, str, bool]"
      ]
     },
     "execution_count": 28,
     "metadata": {},
     "output_type": "execute_result"
    }
   ],
   "source": [
    "[type(elemento) for elemento in l]"
   ]
  },
  {
   "cell_type": "code",
   "execution_count": 29,
   "metadata": {},
   "outputs": [
    {
     "data": {
      "text/plain": [
       "[numpy.str_, numpy.str_, numpy.str_]"
      ]
     },
     "execution_count": 29,
     "metadata": {},
     "output_type": "execute_result"
    }
   ],
   "source": [
    "[type(elemento) for elemento in a]"
   ]
  },
  {
   "cell_type": "code",
   "execution_count": 31,
   "metadata": {
    "collapsed": true
   },
   "outputs": [],
   "source": [
    "l = list(range(10000))\n",
    "a = np.array(range(10000))"
   ]
  },
  {
   "cell_type": "code",
   "execution_count": 32,
   "metadata": {},
   "outputs": [
    {
     "name": "stdout",
     "output_type": "stream",
     "text": [
      "568 µs ± 41.1 µs per loop (mean ± std. dev. of 7 runs, 1000 loops each)\n"
     ]
    }
   ],
   "source": [
    "def somma_numpy(a):\n",
    "    return np.sum(a)\n",
    "\n",
    "def somma_python(l):\n",
    "    return sum(l)\n",
    "    \n",
    "%timeit somma_python(l)"
   ]
  },
  {
   "cell_type": "code",
   "execution_count": 33,
   "metadata": {},
   "outputs": [
    {
     "name": "stdout",
     "output_type": "stream",
     "text": [
      "9.52 µs ± 24.8 ns per loop (mean ± std. dev. of 7 runs, 100000 loops each)\n"
     ]
    }
   ],
   "source": [
    "%timeit somma_numpy(a)"
   ]
  },
  {
   "cell_type": "code",
   "execution_count": 34,
   "metadata": {},
   "outputs": [
    {
     "name": "stdout",
     "output_type": "stream",
     "text": [
      "216 µs ± 530 ns per loop (mean ± std. dev. of 7 runs, 1000 loops each)\n"
     ]
    }
   ],
   "source": [
    "%timeit list(range(10000))"
   ]
  },
  {
   "cell_type": "code",
   "execution_count": 35,
   "metadata": {},
   "outputs": [
    {
     "name": "stdout",
     "output_type": "stream",
     "text": [
      "8.83 µs ± 420 ns per loop (mean ± std. dev. of 7 runs, 100000 loops each)\n"
     ]
    }
   ],
   "source": [
    "%timeit np.arange(10000)"
   ]
  },
  {
   "cell_type": "code",
   "execution_count": 36,
   "metadata": {},
   "outputs": [
    {
     "data": {
      "text/plain": [
       "array([0, 1, 2, 3, 4, 5, 6, 7, 8, 9])"
      ]
     },
     "execution_count": 36,
     "metadata": {},
     "output_type": "execute_result"
    }
   ],
   "source": [
    "#subsection{Attributi degli Array}\n",
    "a = np.array(range(10))\n",
    "a"
   ]
  },
  {
   "cell_type": "code",
   "execution_count": 37,
   "metadata": {},
   "outputs": [
    {
     "data": {
      "text/plain": [
       "dtype('int64')"
      ]
     },
     "execution_count": 37,
     "metadata": {},
     "output_type": "execute_result"
    }
   ],
   "source": [
    "a.dtype"
   ]
  },
  {
   "cell_type": "code",
   "execution_count": 38,
   "metadata": {},
   "outputs": [
    {
     "data": {
      "text/plain": [
       "(3, 3)"
      ]
     },
     "execution_count": 38,
     "metadata": {},
     "output_type": "execute_result"
    }
   ],
   "source": [
    "X = np.array([\n",
    "        [1,2,3], \n",
    "        [4,5,6], \n",
    "        [7,8,9]\n",
    "])\n",
    "X.shape"
   ]
  },
  {
   "cell_type": "code",
   "execution_count": 39,
   "metadata": {},
   "outputs": [
    {
     "data": {
      "text/plain": [
       "array([[1, 2, 3, 4, 5, 6, 7, 8, 9]])"
      ]
     },
     "execution_count": 39,
     "metadata": {},
     "output_type": "execute_result"
    }
   ],
   "source": [
    "X.shape = (1,9)\n",
    "X"
   ]
  },
  {
   "cell_type": "code",
   "execution_count": 40,
   "metadata": {},
   "outputs": [
    {
     "data": {
      "text/plain": [
       "array([[1, 2, 3],\n",
       "       [4, 5, 6],\n",
       "       [7, 8, 9]])"
      ]
     },
     "execution_count": 40,
     "metadata": {},
     "output_type": "execute_result"
    }
   ],
   "source": [
    "X.reshape(3,3)"
   ]
  },
  {
   "cell_type": "code",
   "execution_count": 41,
   "metadata": {},
   "outputs": [
    {
     "data": {
      "text/plain": [
       "array([0, 1, 2, 3, 4, 5, 6, 7, 8, 9])"
      ]
     },
     "execution_count": 41,
     "metadata": {},
     "output_type": "execute_result"
    }
   ],
   "source": [
    "np.arange(10)"
   ]
  },
  {
   "cell_type": "code",
   "execution_count": 42,
   "metadata": {},
   "outputs": [
    {
     "data": {
      "text/plain": [
       "array([[  6.92785084e-310,   4.67938787e-310],\n",
       "       [  0.00000000e+000,   0.00000000e+000],\n",
       "       [  0.00000000e+000,   0.00000000e+000],\n",
       "       [  0.00000000e+000,               nan]])"
      ]
     },
     "execution_count": 42,
     "metadata": {},
     "output_type": "execute_result"
    }
   ],
   "source": [
    "np.empty((4,2), dtype=float)"
   ]
  },
  {
   "cell_type": "code",
   "execution_count": 43,
   "metadata": {},
   "outputs": [
    {
     "data": {
      "text/plain": [
       "array([[0, 0],\n",
       "       [0, 0],\n",
       "       [0, 0],\n",
       "       [0, 0]], dtype=int32)"
      ]
     },
     "execution_count": 43,
     "metadata": {},
     "output_type": "execute_result"
    }
   ],
   "source": [
    "np.zeros((4,2), dtype=np.int32)"
   ]
  },
  {
   "cell_type": "code",
   "execution_count": 44,
   "metadata": {},
   "outputs": [
    {
     "data": {
      "text/plain": [
       "array([[1, 1],\n",
       "       [1, 1],\n",
       "       [1, 1],\n",
       "       [1, 1]], dtype=int32)"
      ]
     },
     "execution_count": 44,
     "metadata": {},
     "output_type": "execute_result"
    }
   ],
   "source": [
    "np.ones((4,2), dtype=np.int32)"
   ]
  },
  {
   "cell_type": "code",
   "execution_count": 45,
   "metadata": {},
   "outputs": [
    {
     "data": {
      "text/plain": [
       "array([[ 1.,  0.,  0.,  0.],\n",
       "       [ 0.,  1.,  0.,  0.],\n",
       "       [ 0.,  0.,  1.,  0.],\n",
       "       [ 0.,  0.,  0.,  1.]])"
      ]
     },
     "execution_count": 45,
     "metadata": {},
     "output_type": "execute_result"
    }
   ],
   "source": [
    "np.identity(4)"
   ]
  },
  {
   "cell_type": "code",
   "execution_count": 51,
   "metadata": {},
   "outputs": [
    {
     "data": {
      "text/plain": [
       "array([[1, 2, 3],\n",
       "       [4, 5, 6],\n",
       "       [7, 8, 9]])"
      ]
     },
     "execution_count": 51,
     "metadata": {},
     "output_type": "execute_result"
    }
   ],
   "source": [
    "#\\subsection{Operazioni comuni con le matrici}\n",
    "X = np.array([\n",
    "        [1,2,3], \n",
    "        [4,5,6], \n",
    "        [7,8,9]\n",
    "])\n",
    "X"
   ]
  },
  {
   "cell_type": "code",
   "execution_count": 52,
   "metadata": {},
   "outputs": [
    {
     "data": {
      "text/plain": [
       "array([[ 2,  4,  6],\n",
       "       [ 8, 10, 12],\n",
       "       [14, 16, 18]])"
      ]
     },
     "execution_count": 52,
     "metadata": {},
     "output_type": "execute_result"
    }
   ],
   "source": [
    "2 * X"
   ]
  },
  {
   "cell_type": "code",
   "execution_count": 53,
   "metadata": {},
   "outputs": [
    {
     "data": {
      "text/plain": [
       "array([[ 2,  4,  6],\n",
       "       [ 8, 10, 12],\n",
       "       [14, 16, 18]])"
      ]
     },
     "execution_count": 53,
     "metadata": {},
     "output_type": "execute_result"
    }
   ],
   "source": [
    "np.dot(X, 2)"
   ]
  },
  {
   "cell_type": "code",
   "execution_count": 54,
   "metadata": {},
   "outputs": [
    {
     "data": {
      "text/plain": [
       "array([[0, 0, 0],\n",
       "       [1, 1, 1],\n",
       "       [0, 0, 0]])"
      ]
     },
     "execution_count": 54,
     "metadata": {},
     "output_type": "execute_result"
    }
   ],
   "source": [
    "Y = np.array([[0,0,0], [1,1,1], [0,0,0]])\n",
    "Y"
   ]
  },
  {
   "cell_type": "code",
   "execution_count": 55,
   "metadata": {},
   "outputs": [
    {
     "data": {
      "text/plain": [
       "array([[2, 2, 2],\n",
       "       [5, 5, 5],\n",
       "       [8, 8, 8]])"
      ]
     },
     "execution_count": 55,
     "metadata": {},
     "output_type": "execute_result"
    }
   ],
   "source": [
    "np.dot(X, Y)"
   ]
  },
  {
   "cell_type": "code",
   "execution_count": 56,
   "metadata": {},
   "outputs": [
    {
     "data": {
      "text/plain": [
       "array([[1, 2, 3],\n",
       "       [4, 5, 6],\n",
       "       [7, 8, 9]])"
      ]
     },
     "execution_count": 56,
     "metadata": {},
     "output_type": "execute_result"
    }
   ],
   "source": [
    "X"
   ]
  },
  {
   "cell_type": "code",
   "execution_count": 57,
   "metadata": {},
   "outputs": [
    {
     "data": {
      "text/plain": [
       "array([[1, 4, 7],\n",
       "       [2, 5, 8],\n",
       "       [3, 6, 9]])"
      ]
     },
     "execution_count": 57,
     "metadata": {},
     "output_type": "execute_result"
    }
   ],
   "source": [
    "X.T"
   ]
  },
  {
   "cell_type": "code",
   "execution_count": 58,
   "metadata": {},
   "outputs": [
    {
     "data": {
      "text/plain": [
       "array([[1, 4, 7],\n",
       "       [2, 5, 8],\n",
       "       [3, 6, 9]])"
      ]
     },
     "execution_count": 58,
     "metadata": {},
     "output_type": "execute_result"
    }
   ],
   "source": [
    "np.transpose(X)"
   ]
  },
  {
   "cell_type": "code",
   "execution_count": 61,
   "metadata": {},
   "outputs": [
    {
     "data": {
      "text/plain": [
       "'nel'"
      ]
     },
     "execution_count": 61,
     "metadata": {},
     "output_type": "execute_result"
    }
   ],
   "source": [
    "#\\subsection{Indicizzazione e iterazione degli array}\n",
    "#\\subsubsection{Indicizzazione}\n",
    "a = np.array(['nel', 'mezzo', 'del', 'cammin', 'di', 'nostra', 'vita'])\n",
    "a[0]"
   ]
  },
  {
   "cell_type": "code",
   "execution_count": 62,
   "metadata": {},
   "outputs": [
    {
     "data": {
      "text/plain": [
       "'vita'"
      ]
     },
     "execution_count": 62,
     "metadata": {},
     "output_type": "execute_result"
    }
   ],
   "source": [
    "a[-1]"
   ]
  },
  {
   "cell_type": "code",
   "execution_count": 63,
   "metadata": {},
   "outputs": [
    {
     "data": {
      "text/plain": [
       "array([[1, 2, 3],\n",
       "       [3, 4, 5],\n",
       "       [4, 5, 6]])"
      ]
     },
     "execution_count": 63,
     "metadata": {},
     "output_type": "execute_result"
    }
   ],
   "source": [
    "a = np.array([[1,2,3],[3,4,5],[4,5,6]])\n",
    "a"
   ]
  },
  {
   "cell_type": "code",
   "execution_count": 64,
   "metadata": {},
   "outputs": [
    {
     "data": {
      "text/plain": [
       "array([2, 4, 5])"
      ]
     },
     "execution_count": 64,
     "metadata": {},
     "output_type": "execute_result"
    }
   ],
   "source": [
    "a[...,1]"
   ]
  },
  {
   "cell_type": "code",
   "execution_count": 65,
   "metadata": {},
   "outputs": [
    {
     "data": {
      "text/plain": [
       "array([4, 5, 6])"
      ]
     },
     "execution_count": 65,
     "metadata": {},
     "output_type": "execute_result"
    }
   ],
   "source": [
    "a[2,...]"
   ]
  },
  {
   "cell_type": "code",
   "execution_count": 66,
   "metadata": {},
   "outputs": [
    {
     "data": {
      "text/plain": [
       "array([3, 3, 4, 5, 4, 5, 6])"
      ]
     },
     "execution_count": 66,
     "metadata": {},
     "output_type": "execute_result"
    }
   ],
   "source": [
    "a[a>2]"
   ]
  },
  {
   "cell_type": "code",
   "execution_count": 67,
   "metadata": {},
   "outputs": [
    {
     "data": {
      "text/plain": [
       "[array([[1, 2, 3]]), array([[4, 5, 6]]), array([[7, 8, 9]])]"
      ]
     },
     "execution_count": 67,
     "metadata": {},
     "output_type": "execute_result"
    }
   ],
   "source": [
    "X = np.array([[1,2,3],[4,5,6],[7,8,9]])\n",
    "np.split(X, 3)"
   ]
  },
  {
   "cell_type": "code",
   "execution_count": 68,
   "metadata": {},
   "outputs": [
    {
     "data": {
      "text/plain": [
       "array([[ 0,  1,  2,  3],\n",
       "       [ 4,  5,  6,  7],\n",
       "       [ 8,  9, 10, 11],\n",
       "       [12, 13, 14, 15],\n",
       "       [16, 17, 18, 19]])"
      ]
     },
     "execution_count": 68,
     "metadata": {},
     "output_type": "execute_result"
    }
   ],
   "source": [
    "X = np.arange(20)\n",
    "np.array(np.split(X, 5))"
   ]
  },
  {
   "cell_type": "code",
   "execution_count": 70,
   "metadata": {},
   "outputs": [
    {
     "name": "stdout",
     "output_type": "stream",
     "text": [
      "0 1\n",
      "1 2\n",
      "2 3\n",
      "3 4\n",
      "4 5\n",
      "5 6\n",
      "6 7\n",
      "7 8\n",
      "8 9\n"
     ]
    }
   ],
   "source": [
    "#\\subsubsection{Iterazione}\n",
    "X = np.array([1,2,3,4,5,6,7,8,9])\n",
    "for i, elemento in enumerate(X):\n",
    "    print(i, elemento)"
   ]
  },
  {
   "cell_type": "code",
   "execution_count": 71,
   "metadata": {},
   "outputs": [
    {
     "name": "stdout",
     "output_type": "stream",
     "text": [
      "0 [1 2 3]\n",
      "1 [4 5 6]\n",
      "2 [7 8 9]\n"
     ]
    }
   ],
   "source": [
    "X.shape = (3,3)\n",
    "for i, elemento in enumerate(X):\n",
    "    print(i, elemento)"
   ]
  },
  {
   "cell_type": "code",
   "execution_count": 72,
   "metadata": {},
   "outputs": [
    {
     "data": {
      "text/plain": [
       "array([[1, 2, 3],\n",
       "       [4, 5, 6],\n",
       "       [7, 8, 9]])"
      ]
     },
     "execution_count": 72,
     "metadata": {},
     "output_type": "execute_result"
    }
   ],
   "source": [
    "X = np.array([[1,2,3],[4,5,6],[7,8,9]])\n",
    "X"
   ]
  },
  {
   "cell_type": "code",
   "execution_count": 73,
   "metadata": {},
   "outputs": [
    {
     "name": "stdout",
     "output_type": "stream",
     "text": [
      "1\n",
      "2\n",
      "3\n",
      "4\n",
      "5\n",
      "6\n",
      "7\n",
      "8\n",
      "9\n"
     ]
    }
   ],
   "source": [
    "for el in np.nditer(X):\n",
    "    print(el),"
   ]
  },
  {
   "cell_type": "code",
   "execution_count": 74,
   "metadata": {},
   "outputs": [
    {
     "data": {
      "text/plain": [
       "array([[1, 4, 7],\n",
       "       [2, 5, 8],\n",
       "       [3, 6, 9]])"
      ]
     },
     "execution_count": 74,
     "metadata": {},
     "output_type": "execute_result"
    }
   ],
   "source": [
    "X.T"
   ]
  },
  {
   "cell_type": "code",
   "execution_count": 77,
   "metadata": {},
   "outputs": [
    {
     "name": "stdout",
     "output_type": "stream",
     "text": [
      "1 2 3 4 5 6 7 8 9 "
     ]
    }
   ],
   "source": [
    "for el in np.nditer(X.T):\n",
    "    print(el, end=' ')"
   ]
  },
  {
   "cell_type": "code",
   "execution_count": 78,
   "metadata": {},
   "outputs": [
    {
     "name": "stdout",
     "output_type": "stream",
     "text": [
      "1 2 3 4 5 6 7 8 9 "
     ]
    }
   ],
   "source": [
    "for el in np.nditer(X, order='C'):\n",
    "    print(el, end=' ')"
   ]
  },
  {
   "cell_type": "code",
   "execution_count": 79,
   "metadata": {},
   "outputs": [
    {
     "name": "stdout",
     "output_type": "stream",
     "text": [
      "1 4 7 2 5 8 3 6 9 "
     ]
    }
   ],
   "source": [
    "for el in np.nditer(X, order='F'):\n",
    "    print(el, end=' ')"
   ]
  },
  {
   "cell_type": "code",
   "execution_count": 80,
   "metadata": {},
   "outputs": [
    {
     "ename": "ValueError",
     "evalue": "output array is read-only",
     "output_type": "error",
     "traceback": [
      "\u001b[0;31m---------------------------------------------------------------------------\u001b[0m",
      "\u001b[0;31mValueError\u001b[0m                                Traceback (most recent call last)",
      "\u001b[0;32m<ipython-input-80-703c1a5ab48f>\u001b[0m in \u001b[0;36m<module>\u001b[0;34m()\u001b[0m\n\u001b[1;32m      1\u001b[0m \u001b[0;32mfor\u001b[0m \u001b[0mel\u001b[0m \u001b[0;32min\u001b[0m \u001b[0mnp\u001b[0m\u001b[0;34m.\u001b[0m\u001b[0mnditer\u001b[0m\u001b[0;34m(\u001b[0m\u001b[0mX\u001b[0m\u001b[0;34m)\u001b[0m\u001b[0;34m:\u001b[0m\u001b[0;34m\u001b[0m\u001b[0m\n\u001b[0;32m----> 2\u001b[0;31m     \u001b[0mel\u001b[0m \u001b[0;34m*=\u001b[0m \u001b[0;36m2\u001b[0m\u001b[0;34m\u001b[0m\u001b[0m\n\u001b[0m",
      "\u001b[0;31mValueError\u001b[0m: output array is read-only"
     ]
    }
   ],
   "source": [
    "for el in np.nditer(X):\n",
    "    el *= 2"
   ]
  },
  {
   "cell_type": "code",
   "execution_count": 81,
   "metadata": {},
   "outputs": [
    {
     "data": {
      "text/plain": [
       "array([[ 2,  4,  6],\n",
       "       [ 8, 10, 12],\n",
       "       [14, 16, 18]])"
      ]
     },
     "execution_count": 81,
     "metadata": {},
     "output_type": "execute_result"
    }
   ],
   "source": [
    "for el in np.nditer(X, op_flags=['readwrite']):\n",
    "    el *= 2\n",
    "X"
   ]
  },
  {
   "cell_type": "code",
   "execution_count": 82,
   "metadata": {},
   "outputs": [
    {
     "name": "stdout",
     "output_type": "stream",
     "text": [
      "[['quarter' 'stock' 'date' ..., 'percent_change_next_weeks_price'\n",
      "  'days_to_next_dividend' 'percent_return_next_dividend']\n",
      " ['1' 'AA' '1/7/2011' ..., '-4.42849' '26' '0.182704']\n",
      " ['1' 'AA' '1/14/2011' ..., '-2.47066' '19' '0.187852']\n",
      " ..., \n",
      " ['2' 'XOM' '6/10/2011' ..., '-1.225' '61' '0.58912']\n",
      " ['2' 'XOM' '6/17/2011' ..., '-2.37762' '54' '0.594786']\n",
      " ['2' 'XOM' '6/24/2011' ..., '6.67274' '47' '0.612139']]\n"
     ]
    }
   ],
   "source": [
    "import numpy as np\n",
    "\n",
    "# leggo il file\n",
    "with open(\"dow_jones_index/dow_jones_index.data\") as f:\n",
    "    data = f.readlines()\n",
    "    # rimuovo il carattere \"a capo\" da ogni riga\n",
    "    data = [riga.replace(\"\\n\", \"\") for riga in data]\n",
    "\n",
    "dataset = np.array([riga.split(\",\") for riga in data])\n",
    "print(dataset)"
   ]
  },
  {
   "cell_type": "code",
   "execution_count": 83,
   "metadata": {
    "collapsed": true
   },
   "outputs": [],
   "source": [
    "import pandas as pd\n",
    "df = pd.read_csv(\"dow_jones_index/dow_jones_index.data\")"
   ]
  },
  {
   "cell_type": "code",
   "execution_count": 84,
   "metadata": {},
   "outputs": [
    {
     "name": "stdout",
     "output_type": "stream",
     "text": [
      "     quarter stock       date    open    high     low   close     volume  \\\n",
      "0          1    AA   1/7/2011  $15.82  $16.72  $15.78  $16.42  239655616   \n",
      "1          1    AA  1/14/2011  $16.71  $16.71  $15.64  $15.97  242963398   \n",
      "2          1    AA  1/21/2011  $16.19  $16.38  $15.60  $15.79  138428495   \n",
      "3          1    AA  1/28/2011  $15.87  $16.63  $15.82  $16.13  151379173   \n",
      "4          1    AA   2/4/2011  $16.18  $17.39  $16.18  $17.14  154387761   \n",
      "5          1    AA  2/11/2011  $17.33  $17.48  $16.97  $17.37  114691279   \n",
      "6          1    AA  2/18/2011  $17.39  $17.68  $17.28  $17.28   80023895   \n",
      "7          1    AA  2/25/2011  $16.98  $17.15  $15.96  $16.68  132981863   \n",
      "8          1    AA   3/4/2011  $16.81  $16.94  $16.13  $16.58  109493077   \n",
      "9          1    AA  3/11/2011  $16.58  $16.75  $15.42  $16.03  114332562   \n",
      "10         1    AA  3/18/2011  $15.95  $16.33  $15.43  $16.11  130374108   \n",
      "11         1    AA  3/25/2011  $16.38  $17.24  $16.26  $17.09   95550392   \n",
      "12         1   AXP   1/7/2011  $43.30  $45.60  $43.11  $44.36   45102042   \n",
      "13         1   AXP  1/14/2011  $44.20  $46.25  $44.01  $46.25   25913713   \n",
      "14         1   AXP  1/21/2011  $46.03  $46.71  $44.71  $46.00   38824728   \n",
      "15         1   AXP  1/28/2011  $46.05  $46.27  $43.42  $43.86   51427274   \n",
      "16         1   AXP   2/4/2011  $44.13  $44.23  $43.15  $43.82   39501680   \n",
      "17         1   AXP  2/11/2011  $43.96  $46.79  $43.88  $46.75   43746998   \n",
      "18         1   AXP  2/18/2011  $46.42  $46.93  $45.53  $45.53   28564910   \n",
      "19         1   AXP  2/25/2011  $44.94  $45.12  $43.01  $43.53   39654146   \n",
      "20         1   AXP   3/4/2011  $43.73  $44.68  $42.75  $43.72   38985037   \n",
      "21         1   AXP  3/11/2011  $43.86  $45.54  $43.53  $44.28   37613429   \n",
      "22         1   AXP  3/18/2011  $43.86  $44.47  $42.19  $44.17   41757526   \n",
      "23         1   AXP  3/25/2011  $44.75  $45.61  $44.10  $45.59   30798332   \n",
      "24         1    BA   1/7/2011  $66.15  $70.10  $66.00  $69.38   36258120   \n",
      "25         1    BA  1/14/2011  $69.42  $70.50  $68.35  $70.07   18834664   \n",
      "26         1    BA  1/21/2011  $70.86  $72.99  $70.23  $71.68   29594221   \n",
      "27         1    BA  1/28/2011  $71.52  $72.82  $69.00  $69.23   34929673   \n",
      "28         1    BA   2/4/2011  $69.26  $71.64  $69.12  $71.38   22770062   \n",
      "29         1    BA  2/11/2011  $71.43  $72.99  $71.15  $72.14   21809411   \n",
      "..       ...   ...        ...     ...     ...     ...     ...        ...   \n",
      "720        2    VZ   6/3/2011  $36.91  $36.99  $35.60  $35.63   50174214   \n",
      "721        2    VZ  6/10/2011  $35.57  $36.14  $35.16  $35.19   72100710   \n",
      "722        2    VZ  6/17/2011  $35.23  $35.92  $34.94  $35.51   69585912   \n",
      "723        2    VZ  6/24/2011  $35.35  $36.17  $35.20  $36.00   82375230   \n",
      "724        2   WMT   4/1/2011  $52.31  $52.74  $51.89  $52.13   44519431   \n",
      "725        2   WMT   4/8/2011  $52.31  $53.24  $52.06  $52.54   48382262   \n",
      "726        2   WMT  4/15/2011  $52.54  $53.96  $52.40  $53.55   45662991   \n",
      "727        2   WMT  4/21/2011  $53.08  $53.95  $52.91  $53.58   23073491   \n",
      "728        2   WMT  4/29/2011  $53.60  $55.16  $53.23  $54.98   47159044   \n",
      "729        2   WMT   5/6/2011  $55.08  $55.79  $53.20  $55.02   46668727   \n",
      "730        2   WMT  5/13/2011  $54.97  $56.03  $54.70  $55.72   42649301   \n",
      "731        2   WMT  5/20/2011  $55.61  $56.47  $54.95  $55.29   56695842   \n",
      "732        2   WMT  5/27/2011  $54.90  $55.50  $54.10  $54.70   35560853   \n",
      "733        2   WMT   6/3/2011  $54.88  $55.22  $53.04  $53.66   48156051   \n",
      "734        2   WMT  6/10/2011  $53.86  $54.30  $52.69  $52.72   58746396   \n",
      "735        2   WMT  6/17/2011  $52.91  $53.29  $51.79  $52.82   68996550   \n",
      "736        2   WMT  6/24/2011  $52.70  $53.70  $52.35  $52.41   75602550   \n",
      "737        2   XOM   4/1/2011  $83.86  $84.94  $82.61  $84.68   77569311   \n",
      "738        2   XOM   4/8/2011  $84.26  $86.22  $84.07  $85.95   75566590   \n",
      "739        2   XOM  4/15/2011  $85.95  $86.15  $82.38  $84.29   81056144   \n",
      "740        2   XOM  4/21/2011  $83.11  $86.36  $82.44  $86.36   43378708   \n",
      "741        2   XOM  4/29/2011  $86.29  $88.00  $85.89  $87.98   81596868   \n",
      "742        2   XOM   5/6/2011  $88.10  $88.13  $81.59  $82.69  113805856   \n",
      "743        2   XOM  5/13/2011  $83.01  $83.76  $79.42  $80.87   99678100   \n",
      "744        2   XOM  5/20/2011  $80.22  $82.58  $79.60  $81.57   86758820   \n",
      "745        2   XOM  5/27/2011  $80.22  $82.63  $80.07  $82.63   68230855   \n",
      "746        2   XOM   6/3/2011  $83.28  $83.75  $80.18  $81.18   78616295   \n",
      "747        2   XOM  6/10/2011  $80.93  $81.87  $79.72  $79.78   92380844   \n",
      "748        2   XOM  6/17/2011  $80.00  $80.82  $78.33  $79.02  100521400   \n",
      "749        2   XOM  6/24/2011  $78.65  $81.12  $76.78  $76.78  118679791   \n",
      "\n",
      "     percent_change_price  percent_change_volume_over_last_wk  \\\n",
      "0                3.792670                                 NaN   \n",
      "1               -4.428490                            1.380223   \n",
      "2               -2.470660                          -43.024959   \n",
      "3                1.638310                            9.355500   \n",
      "4                5.933250                            1.987452   \n",
      "5                0.230814                          -25.712195   \n",
      "6               -0.632547                          -30.226696   \n",
      "7               -1.766780                           66.177694   \n",
      "8               -1.368230                          -17.663150   \n",
      "9               -3.317250                            4.419900   \n",
      "10               1.003130                           14.030601   \n",
      "11               4.334550                          -26.710607   \n",
      "12               2.448040                                 NaN   \n",
      "13               4.638010                          -42.544258   \n",
      "14              -0.065175                           49.823099   \n",
      "15              -4.755700                           32.460101   \n",
      "16              -0.702470                          -23.189240   \n",
      "17               6.346680                           10.747183   \n",
      "18              -1.917280                          -34.704297   \n",
      "19              -3.137520                           38.821183   \n",
      "20              -0.022868                           -1.687362   \n",
      "21               0.957592                           -3.518293   \n",
      "22               0.706794                           11.017600   \n",
      "23               1.877090                          -26.244835   \n",
      "24               4.882840                                 NaN   \n",
      "25               0.936330                          -48.053942   \n",
      "26               1.157210                           57.126355   \n",
      "27              -3.201900                           18.028696   \n",
      "28               3.060930                          -34.811694   \n",
      "29               0.993980                           -4.218921   \n",
      "..                    ...                                 ...   \n",
      "720             -3.467890                           15.608455   \n",
      "721             -1.068320                           43.700726   \n",
      "722              0.794777                           -3.487896   \n",
      "723              1.838760                           18.379177   \n",
      "724             -0.344102                          -16.607132   \n",
      "725              0.439686                            8.676730   \n",
      "726              1.922340                           -5.620388   \n",
      "727              0.941974                          -49.470040   \n",
      "728              2.574630                          104.386254   \n",
      "729             -0.108932                           -1.039709   \n",
      "730              1.364380                           -8.612675   \n",
      "731             -0.575436                           32.934985   \n",
      "732             -0.364299                          -37.277847   \n",
      "733             -2.223030                           35.418717   \n",
      "734             -2.116600                           21.991722   \n",
      "735             -0.170100                           17.448141   \n",
      "736             -0.550285                            9.574392   \n",
      "737              0.977820                           -6.951645   \n",
      "738              2.005700                           -2.581847   \n",
      "739             -1.931360                            7.264525   \n",
      "740              3.910480                          -46.483134   \n",
      "741              1.958510                           88.103500   \n",
      "742             -6.140750                           39.473314   \n",
      "743             -2.578000                          -12.413910   \n",
      "744              1.682870                          -12.961001   \n",
      "745              3.004240                          -21.355713   \n",
      "746             -2.521610                           15.221032   \n",
      "747             -1.420980                           17.508519   \n",
      "748             -1.225000                            8.811952   \n",
      "749             -2.377620                           18.064204   \n",
      "\n",
      "     previous_weeks_volume next_weeks_open next_weeks_close  \\\n",
      "0                      NaN          $16.71           $15.97   \n",
      "1              239655616.0          $16.19           $15.79   \n",
      "2              242963398.0          $15.87           $16.13   \n",
      "3              138428495.0          $16.18           $17.14   \n",
      "4              151379173.0          $17.33           $17.37   \n",
      "5              154387761.0          $17.39           $17.28   \n",
      "6              114691279.0          $16.98           $16.68   \n",
      "7               80023895.0          $16.81           $16.58   \n",
      "8              132981863.0          $16.58           $16.03   \n",
      "9              109493077.0          $15.95           $16.11   \n",
      "10             114332562.0          $16.38           $17.09   \n",
      "11             130374108.0          $17.13           $17.47   \n",
      "12                     NaN          $44.20           $46.25   \n",
      "13              45102042.0          $46.03           $46.00   \n",
      "14              25913713.0          $46.05           $43.86   \n",
      "15              38824728.0          $44.13           $43.82   \n",
      "16              51427274.0          $43.96           $46.75   \n",
      "17              39501680.0          $46.42           $45.53   \n",
      "18              43746998.0          $44.94           $43.53   \n",
      "19              28564910.0          $43.73           $43.72   \n",
      "20              39654146.0          $43.86           $44.28   \n",
      "21              38985037.0          $43.86           $44.17   \n",
      "22              37613429.0          $44.75           $45.59   \n",
      "23              41757526.0          $45.54           $45.36   \n",
      "24                     NaN          $69.42           $70.07   \n",
      "25              36258120.0          $70.86           $71.68   \n",
      "26              18834664.0          $71.52           $69.23   \n",
      "27              29594221.0          $69.26           $71.38   \n",
      "28              34929673.0          $71.43           $72.14   \n",
      "29              22770062.0          $72.70           $73.04   \n",
      "..                     ...             ...              ...   \n",
      "720             43400125.0          $35.57           $35.19   \n",
      "721             50174214.0          $35.23           $35.51   \n",
      "722             72100710.0          $35.35           $36.00   \n",
      "723             69585912.0          $36.00           $37.80   \n",
      "724             53385178.0          $52.31           $52.54   \n",
      "725             44519431.0          $52.54           $53.55   \n",
      "726             48382262.0          $53.08           $53.58   \n",
      "727             45662991.0          $53.60           $54.98   \n",
      "728             23073491.0          $55.08           $55.02   \n",
      "729             47159044.0          $54.97           $55.72   \n",
      "730             46668727.0          $55.61           $55.29   \n",
      "731             42649301.0          $54.90           $54.70   \n",
      "732             56695842.0          $54.88           $53.66   \n",
      "733             35560853.0          $53.86           $52.72   \n",
      "734             48156051.0          $52.91           $52.82   \n",
      "735             58746396.0          $52.70           $52.41   \n",
      "736             68996550.0          $52.32           $53.51   \n",
      "737             83364516.0          $84.26           $85.95   \n",
      "738             77569311.0          $85.95           $84.29   \n",
      "739             75566590.0          $83.11           $86.36   \n",
      "740             81056144.0          $86.29           $87.98   \n",
      "741             43378708.0          $88.10           $82.69   \n",
      "742             81596868.0          $83.01           $80.87   \n",
      "743            113805856.0          $80.22           $81.57   \n",
      "744             99678100.0          $80.22           $82.63   \n",
      "745             86758820.0          $83.28           $81.18   \n",
      "746             68230855.0          $80.93           $79.78   \n",
      "747             78616295.0          $80.00           $79.02   \n",
      "748             92380844.0          $78.65           $76.78   \n",
      "749            100521400.0          $76.88           $82.01   \n",
      "\n",
      "     percent_change_next_weeks_price  days_to_next_dividend  \\\n",
      "0                          -4.428490                     26   \n",
      "1                          -2.470660                     19   \n",
      "2                           1.638310                     12   \n",
      "3                           5.933250                      5   \n",
      "4                           0.230814                     97   \n",
      "5                          -0.632547                     90   \n",
      "6                          -1.766780                     83   \n",
      "7                          -1.368230                     76   \n",
      "8                          -3.317250                     69   \n",
      "9                           1.003130                     62   \n",
      "10                          4.334550                     55   \n",
      "11                          1.984820                     48   \n",
      "12                          4.638010                     89   \n",
      "13                         -0.065175                     82   \n",
      "14                         -4.755700                     75   \n",
      "15                         -0.702470                     68   \n",
      "16                          6.346680                     61   \n",
      "17                         -1.917280                     54   \n",
      "18                         -3.137520                     47   \n",
      "19                         -0.022868                     40   \n",
      "20                          0.957592                     33   \n",
      "21                          0.706794                     26   \n",
      "22                          1.877090                     19   \n",
      "23                         -0.395257                     12   \n",
      "24                          0.936330                     33   \n",
      "25                          1.157210                     26   \n",
      "26                         -3.201900                     19   \n",
      "27                          3.060930                     12   \n",
      "28                          0.993980                      5   \n",
      "29                          0.467675                     89   \n",
      "..                               ...                    ...   \n",
      "720                        -1.068320                     33   \n",
      "721                         0.794777                     26   \n",
      "722                         1.838760                     19   \n",
      "723                         5.000000                     12   \n",
      "724                         0.439686                     40   \n",
      "725                         1.922340                     33   \n",
      "726                         0.941974                     26   \n",
      "727                         2.574630                     20   \n",
      "728                        -0.108932                     12   \n",
      "729                         1.364380                      5   \n",
      "730                        -0.575436                     89   \n",
      "731                        -0.364299                     82   \n",
      "732                        -2.223030                     75   \n",
      "733                        -2.116600                     68   \n",
      "734                        -0.170100                     61   \n",
      "735                        -0.550285                     54   \n",
      "736                         2.274460                     47   \n",
      "737                         2.005700                     40   \n",
      "738                        -1.931360                     33   \n",
      "739                         3.910480                     26   \n",
      "740                         1.958510                     20   \n",
      "741                        -6.140750                     12   \n",
      "742                        -2.578000                      5   \n",
      "743                         1.682870                     89   \n",
      "744                         3.004240                     82   \n",
      "745                        -2.521610                     75   \n",
      "746                        -1.420980                     68   \n",
      "747                        -1.225000                     61   \n",
      "748                        -2.377620                     54   \n",
      "749                         6.672740                     47   \n",
      "\n",
      "     percent_return_next_dividend  \n",
      "0                        0.182704  \n",
      "1                        0.187852  \n",
      "2                        0.189994  \n",
      "3                        0.185989  \n",
      "4                        0.175029  \n",
      "5                        0.172712  \n",
      "6                        0.173611  \n",
      "7                        0.179856  \n",
      "8                        0.180941  \n",
      "9                        0.187149  \n",
      "10                       0.186220  \n",
      "11                       0.175541  \n",
      "12                       0.405771  \n",
      "13                       0.389189  \n",
      "14                       0.391304  \n",
      "15                       0.410397  \n",
      "16                       0.410771  \n",
      "17                       0.385027  \n",
      "18                       0.395344  \n",
      "19                       0.413508  \n",
      "20                       0.411711  \n",
      "21                       0.406504  \n",
      "22                       0.407516  \n",
      "23                       0.394823  \n",
      "24                       0.605362  \n",
      "25                       0.599401  \n",
      "26                       0.585938  \n",
      "27                       0.606673  \n",
      "28                       0.588400  \n",
      "29                       0.582201  \n",
      "..                            ...  \n",
      "720                      1.375250  \n",
      "721                      1.392440  \n",
      "722                      1.379890  \n",
      "723                      1.361110  \n",
      "724                      0.709764  \n",
      "725                      0.704225  \n",
      "726                      0.690943  \n",
      "727                      0.690556  \n",
      "728                      0.672972  \n",
      "729                      0.672483  \n",
      "730                      0.664034  \n",
      "731                      0.669199  \n",
      "732                      0.676417  \n",
      "733                      0.689527  \n",
      "734                      0.701821  \n",
      "735                      0.700492  \n",
      "736                      0.705972  \n",
      "737                      0.555031  \n",
      "738                      0.546830  \n",
      "739                      0.557599  \n",
      "740                      0.544233  \n",
      "741                      0.534212  \n",
      "742                      0.568388  \n",
      "743                      0.581180  \n",
      "744                      0.576192  \n",
      "745                      0.568801  \n",
      "746                      0.578960  \n",
      "747                      0.589120  \n",
      "748                      0.594786  \n",
      "749                      0.612139  \n",
      "\n",
      "[750 rows x 16 columns]\n"
     ]
    }
   ],
   "source": [
    "print(df)"
   ]
  },
  {
   "cell_type": "code",
   "execution_count": 85,
   "metadata": {},
   "outputs": [
    {
     "data": {
      "text/html": [
       "<div>\n",
       "<style>\n",
       "    .dataframe thead tr:only-child th {\n",
       "        text-align: right;\n",
       "    }\n",
       "\n",
       "    .dataframe thead th {\n",
       "        text-align: left;\n",
       "    }\n",
       "\n",
       "    .dataframe tbody tr th {\n",
       "        vertical-align: top;\n",
       "    }\n",
       "</style>\n",
       "<table border=\"1\" class=\"dataframe\">\n",
       "  <thead>\n",
       "    <tr style=\"text-align: right;\">\n",
       "      <th></th>\n",
       "      <th>quarter</th>\n",
       "      <th>stock</th>\n",
       "      <th>date</th>\n",
       "      <th>open</th>\n",
       "      <th>high</th>\n",
       "      <th>low</th>\n",
       "      <th>close</th>\n",
       "      <th>volume</th>\n",
       "      <th>percent_change_price</th>\n",
       "      <th>percent_change_volume_over_last_wk</th>\n",
       "      <th>previous_weeks_volume</th>\n",
       "      <th>next_weeks_open</th>\n",
       "      <th>next_weeks_close</th>\n",
       "      <th>percent_change_next_weeks_price</th>\n",
       "      <th>days_to_next_dividend</th>\n",
       "      <th>percent_return_next_dividend</th>\n",
       "    </tr>\n",
       "  </thead>\n",
       "  <tbody>\n",
       "    <tr>\n",
       "      <th>745</th>\n",
       "      <td>2</td>\n",
       "      <td>XOM</td>\n",
       "      <td>5/27/2011</td>\n",
       "      <td>$80.22</td>\n",
       "      <td>$82.63</td>\n",
       "      <td>$80.07</td>\n",
       "      <td>$82.63</td>\n",
       "      <td>68230855</td>\n",
       "      <td>3.00424</td>\n",
       "      <td>-21.355713</td>\n",
       "      <td>86758820.0</td>\n",
       "      <td>$83.28</td>\n",
       "      <td>$81.18</td>\n",
       "      <td>-2.52161</td>\n",
       "      <td>75</td>\n",
       "      <td>0.568801</td>\n",
       "    </tr>\n",
       "    <tr>\n",
       "      <th>746</th>\n",
       "      <td>2</td>\n",
       "      <td>XOM</td>\n",
       "      <td>6/3/2011</td>\n",
       "      <td>$83.28</td>\n",
       "      <td>$83.75</td>\n",
       "      <td>$80.18</td>\n",
       "      <td>$81.18</td>\n",
       "      <td>78616295</td>\n",
       "      <td>-2.52161</td>\n",
       "      <td>15.221032</td>\n",
       "      <td>68230855.0</td>\n",
       "      <td>$80.93</td>\n",
       "      <td>$79.78</td>\n",
       "      <td>-1.42098</td>\n",
       "      <td>68</td>\n",
       "      <td>0.578960</td>\n",
       "    </tr>\n",
       "    <tr>\n",
       "      <th>747</th>\n",
       "      <td>2</td>\n",
       "      <td>XOM</td>\n",
       "      <td>6/10/2011</td>\n",
       "      <td>$80.93</td>\n",
       "      <td>$81.87</td>\n",
       "      <td>$79.72</td>\n",
       "      <td>$79.78</td>\n",
       "      <td>92380844</td>\n",
       "      <td>-1.42098</td>\n",
       "      <td>17.508519</td>\n",
       "      <td>78616295.0</td>\n",
       "      <td>$80.00</td>\n",
       "      <td>$79.02</td>\n",
       "      <td>-1.22500</td>\n",
       "      <td>61</td>\n",
       "      <td>0.589120</td>\n",
       "    </tr>\n",
       "    <tr>\n",
       "      <th>748</th>\n",
       "      <td>2</td>\n",
       "      <td>XOM</td>\n",
       "      <td>6/17/2011</td>\n",
       "      <td>$80.00</td>\n",
       "      <td>$80.82</td>\n",
       "      <td>$78.33</td>\n",
       "      <td>$79.02</td>\n",
       "      <td>100521400</td>\n",
       "      <td>-1.22500</td>\n",
       "      <td>8.811952</td>\n",
       "      <td>92380844.0</td>\n",
       "      <td>$78.65</td>\n",
       "      <td>$76.78</td>\n",
       "      <td>-2.37762</td>\n",
       "      <td>54</td>\n",
       "      <td>0.594786</td>\n",
       "    </tr>\n",
       "    <tr>\n",
       "      <th>749</th>\n",
       "      <td>2</td>\n",
       "      <td>XOM</td>\n",
       "      <td>6/24/2011</td>\n",
       "      <td>$78.65</td>\n",
       "      <td>$81.12</td>\n",
       "      <td>$76.78</td>\n",
       "      <td>$76.78</td>\n",
       "      <td>118679791</td>\n",
       "      <td>-2.37762</td>\n",
       "      <td>18.064204</td>\n",
       "      <td>100521400.0</td>\n",
       "      <td>$76.88</td>\n",
       "      <td>$82.01</td>\n",
       "      <td>6.67274</td>\n",
       "      <td>47</td>\n",
       "      <td>0.612139</td>\n",
       "    </tr>\n",
       "  </tbody>\n",
       "</table>\n",
       "</div>"
      ],
      "text/plain": [
       "     quarter stock       date    open    high     low   close     volume  \\\n",
       "745        2   XOM  5/27/2011  $80.22  $82.63  $80.07  $82.63   68230855   \n",
       "746        2   XOM   6/3/2011  $83.28  $83.75  $80.18  $81.18   78616295   \n",
       "747        2   XOM  6/10/2011  $80.93  $81.87  $79.72  $79.78   92380844   \n",
       "748        2   XOM  6/17/2011  $80.00  $80.82  $78.33  $79.02  100521400   \n",
       "749        2   XOM  6/24/2011  $78.65  $81.12  $76.78  $76.78  118679791   \n",
       "\n",
       "     percent_change_price  percent_change_volume_over_last_wk  \\\n",
       "745               3.00424                          -21.355713   \n",
       "746              -2.52161                           15.221032   \n",
       "747              -1.42098                           17.508519   \n",
       "748              -1.22500                            8.811952   \n",
       "749              -2.37762                           18.064204   \n",
       "\n",
       "     previous_weeks_volume next_weeks_open next_weeks_close  \\\n",
       "745             86758820.0          $83.28           $81.18   \n",
       "746             68230855.0          $80.93           $79.78   \n",
       "747             78616295.0          $80.00           $79.02   \n",
       "748             92380844.0          $78.65           $76.78   \n",
       "749            100521400.0          $76.88           $82.01   \n",
       "\n",
       "     percent_change_next_weeks_price  days_to_next_dividend  \\\n",
       "745                         -2.52161                     75   \n",
       "746                         -1.42098                     68   \n",
       "747                         -1.22500                     61   \n",
       "748                         -2.37762                     54   \n",
       "749                          6.67274                     47   \n",
       "\n",
       "     percent_return_next_dividend  \n",
       "745                      0.568801  \n",
       "746                      0.578960  \n",
       "747                      0.589120  \n",
       "748                      0.594786  \n",
       "749                      0.612139  "
      ]
     },
     "execution_count": 85,
     "metadata": {},
     "output_type": "execute_result"
    }
   ],
   "source": [
    "#stampa le prime 5 righe\n",
    "df.head()\n",
    "#stampa le ultime 5 righe\n",
    "df.tail()\n",
    "#stampa le prime 10 righe\n",
    "df.head(10)\n",
    "#stampa le ultime 10 righe\n",
    "df.tail()"
   ]
  },
  {
   "cell_type": "code",
   "execution_count": 86,
   "metadata": {},
   "outputs": [
    {
     "data": {
      "text/plain": [
       "quarter                                 int64\n",
       "stock                                  object\n",
       "date                                   object\n",
       "open                                   object\n",
       "high                                   object\n",
       "low                                    object\n",
       "close                                  object\n",
       "volume                                  int64\n",
       "percent_change_price                  float64\n",
       "percent_change_volume_over_last_wk    float64\n",
       "previous_weeks_volume                 float64\n",
       "next_weeks_open                        object\n",
       "next_weeks_close                       object\n",
       "percent_change_next_weeks_price       float64\n",
       "days_to_next_dividend                   int64\n",
       "percent_return_next_dividend          float64\n",
       "dtype: object"
      ]
     },
     "execution_count": 86,
     "metadata": {},
     "output_type": "execute_result"
    }
   ],
   "source": [
    "df.dtypes"
   ]
  },
  {
   "cell_type": "code",
   "execution_count": 87,
   "metadata": {
    "collapsed": true
   },
   "outputs": [],
   "source": [
    "# converto le date \n",
    "df['date'] = pd.to_datetime(df['date'])"
   ]
  },
  {
   "cell_type": "code",
   "execution_count": 88,
   "metadata": {
    "collapsed": true
   },
   "outputs": [],
   "source": [
    "def converti_valori_monetari(stringa):\n",
    "    # rimuovo il simbolo del dollaro\n",
    "    valore = stringa.replace('$', '')\n",
    "    # lo converto in float\n",
    "    return float(valore)\n",
    "\n",
    "colonne_da_convertire = ('open', 'high', 'low', \n",
    "                         'close', 'next_weeks_open', \n",
    "                         'next_weeks_close')\n",
    "for colonna in colonne_da_convertire:\n",
    "    # applico a ciascun dato la funzione converti_valori_numerici\n",
    "    df[colonna] = df[colonna].apply(converti_valori_monetari)"
   ]
  },
  {
   "cell_type": "code",
   "execution_count": 89,
   "metadata": {},
   "outputs": [
    {
     "data": {
      "text/plain": [
       "quarter                                        int64\n",
       "stock                                         object\n",
       "date                                  datetime64[ns]\n",
       "open                                         float64\n",
       "high                                         float64\n",
       "low                                          float64\n",
       "close                                        float64\n",
       "volume                                         int64\n",
       "percent_change_price                         float64\n",
       "percent_change_volume_over_last_wk           float64\n",
       "previous_weeks_volume                        float64\n",
       "next_weeks_open                              float64\n",
       "next_weeks_close                             float64\n",
       "percent_change_next_weeks_price              float64\n",
       "days_to_next_dividend                          int64\n",
       "percent_return_next_dividend                 float64\n",
       "dtype: object"
      ]
     },
     "execution_count": 89,
     "metadata": {},
     "output_type": "execute_result"
    }
   ],
   "source": [
    "df.dtypes"
   ]
  },
  {
   "cell_type": "code",
   "execution_count": 90,
   "metadata": {},
   "outputs": [
    {
     "data": {
      "text/html": [
       "<div>\n",
       "<style>\n",
       "    .dataframe thead tr:only-child th {\n",
       "        text-align: right;\n",
       "    }\n",
       "\n",
       "    .dataframe thead th {\n",
       "        text-align: left;\n",
       "    }\n",
       "\n",
       "    .dataframe tbody tr th {\n",
       "        vertical-align: top;\n",
       "    }\n",
       "</style>\n",
       "<table border=\"1\" class=\"dataframe\">\n",
       "  <thead>\n",
       "    <tr style=\"text-align: right;\">\n",
       "      <th></th>\n",
       "      <th>quarter</th>\n",
       "      <th>open</th>\n",
       "      <th>high</th>\n",
       "      <th>low</th>\n",
       "      <th>close</th>\n",
       "      <th>volume</th>\n",
       "      <th>percent_change_price</th>\n",
       "      <th>percent_change_volume_over_last_wk</th>\n",
       "      <th>previous_weeks_volume</th>\n",
       "      <th>next_weeks_open</th>\n",
       "      <th>next_weeks_close</th>\n",
       "      <th>percent_change_next_weeks_price</th>\n",
       "      <th>days_to_next_dividend</th>\n",
       "      <th>percent_return_next_dividend</th>\n",
       "    </tr>\n",
       "  </thead>\n",
       "  <tbody>\n",
       "    <tr>\n",
       "      <th>count</th>\n",
       "      <td>750.000000</td>\n",
       "      <td>750.000000</td>\n",
       "      <td>750.000000</td>\n",
       "      <td>750.000000</td>\n",
       "      <td>750.000000</td>\n",
       "      <td>7.500000e+02</td>\n",
       "      <td>750.000000</td>\n",
       "      <td>720.000000</td>\n",
       "      <td>7.200000e+02</td>\n",
       "      <td>750.000000</td>\n",
       "      <td>750.000000</td>\n",
       "      <td>750.000000</td>\n",
       "      <td>750.000000</td>\n",
       "      <td>750.000000</td>\n",
       "    </tr>\n",
       "    <tr>\n",
       "      <th>mean</th>\n",
       "      <td>1.520000</td>\n",
       "      <td>53.651840</td>\n",
       "      <td>54.669987</td>\n",
       "      <td>52.640160</td>\n",
       "      <td>53.729267</td>\n",
       "      <td>1.175478e+08</td>\n",
       "      <td>0.050262</td>\n",
       "      <td>5.593627</td>\n",
       "      <td>1.173876e+08</td>\n",
       "      <td>53.702440</td>\n",
       "      <td>53.889080</td>\n",
       "      <td>0.238468</td>\n",
       "      <td>52.525333</td>\n",
       "      <td>0.691826</td>\n",
       "    </tr>\n",
       "    <tr>\n",
       "      <th>std</th>\n",
       "      <td>0.499933</td>\n",
       "      <td>32.638852</td>\n",
       "      <td>33.215994</td>\n",
       "      <td>32.119277</td>\n",
       "      <td>32.788787</td>\n",
       "      <td>1.584381e+08</td>\n",
       "      <td>2.517809</td>\n",
       "      <td>40.543478</td>\n",
       "      <td>1.592322e+08</td>\n",
       "      <td>32.778111</td>\n",
       "      <td>33.016677</td>\n",
       "      <td>2.679538</td>\n",
       "      <td>46.335098</td>\n",
       "      <td>0.305482</td>\n",
       "    </tr>\n",
       "    <tr>\n",
       "      <th>min</th>\n",
       "      <td>1.000000</td>\n",
       "      <td>10.590000</td>\n",
       "      <td>10.940000</td>\n",
       "      <td>10.400000</td>\n",
       "      <td>10.520000</td>\n",
       "      <td>9.718851e+06</td>\n",
       "      <td>-15.422900</td>\n",
       "      <td>-61.433175</td>\n",
       "      <td>9.718851e+06</td>\n",
       "      <td>10.520000</td>\n",
       "      <td>10.520000</td>\n",
       "      <td>-15.422900</td>\n",
       "      <td>0.000000</td>\n",
       "      <td>0.065574</td>\n",
       "    </tr>\n",
       "    <tr>\n",
       "      <th>25%</th>\n",
       "      <td>1.000000</td>\n",
       "      <td>29.830000</td>\n",
       "      <td>30.627500</td>\n",
       "      <td>28.720000</td>\n",
       "      <td>30.365000</td>\n",
       "      <td>3.086624e+07</td>\n",
       "      <td>-1.288053</td>\n",
       "      <td>-19.804284</td>\n",
       "      <td>3.067832e+07</td>\n",
       "      <td>30.315000</td>\n",
       "      <td>30.462500</td>\n",
       "      <td>-1.222067</td>\n",
       "      <td>24.000000</td>\n",
       "      <td>0.534549</td>\n",
       "    </tr>\n",
       "    <tr>\n",
       "      <th>50%</th>\n",
       "      <td>2.000000</td>\n",
       "      <td>45.970000</td>\n",
       "      <td>46.885000</td>\n",
       "      <td>44.800000</td>\n",
       "      <td>45.930000</td>\n",
       "      <td>5.306088e+07</td>\n",
       "      <td>0.000000</td>\n",
       "      <td>0.512586</td>\n",
       "      <td>5.294556e+07</td>\n",
       "      <td>46.015000</td>\n",
       "      <td>46.125000</td>\n",
       "      <td>0.101193</td>\n",
       "      <td>47.000000</td>\n",
       "      <td>0.681067</td>\n",
       "    </tr>\n",
       "    <tr>\n",
       "      <th>75%</th>\n",
       "      <td>2.000000</td>\n",
       "      <td>72.715000</td>\n",
       "      <td>74.287500</td>\n",
       "      <td>71.037500</td>\n",
       "      <td>72.667500</td>\n",
       "      <td>1.327218e+08</td>\n",
       "      <td>1.650888</td>\n",
       "      <td>21.800622</td>\n",
       "      <td>1.333230e+08</td>\n",
       "      <td>72.715000</td>\n",
       "      <td>72.915000</td>\n",
       "      <td>1.845562</td>\n",
       "      <td>69.000000</td>\n",
       "      <td>0.854291</td>\n",
       "    </tr>\n",
       "    <tr>\n",
       "      <th>max</th>\n",
       "      <td>2.000000</td>\n",
       "      <td>172.110000</td>\n",
       "      <td>173.540000</td>\n",
       "      <td>167.820000</td>\n",
       "      <td>170.580000</td>\n",
       "      <td>1.453439e+09</td>\n",
       "      <td>9.882230</td>\n",
       "      <td>327.408924</td>\n",
       "      <td>1.453439e+09</td>\n",
       "      <td>172.110000</td>\n",
       "      <td>174.540000</td>\n",
       "      <td>9.882230</td>\n",
       "      <td>336.000000</td>\n",
       "      <td>1.564210</td>\n",
       "    </tr>\n",
       "  </tbody>\n",
       "</table>\n",
       "</div>"
      ],
      "text/plain": [
       "          quarter        open        high         low       close  \\\n",
       "count  750.000000  750.000000  750.000000  750.000000  750.000000   \n",
       "mean     1.520000   53.651840   54.669987   52.640160   53.729267   \n",
       "std      0.499933   32.638852   33.215994   32.119277   32.788787   \n",
       "min      1.000000   10.590000   10.940000   10.400000   10.520000   \n",
       "25%      1.000000   29.830000   30.627500   28.720000   30.365000   \n",
       "50%      2.000000   45.970000   46.885000   44.800000   45.930000   \n",
       "75%      2.000000   72.715000   74.287500   71.037500   72.667500   \n",
       "max      2.000000  172.110000  173.540000  167.820000  170.580000   \n",
       "\n",
       "             volume  percent_change_price  percent_change_volume_over_last_wk  \\\n",
       "count  7.500000e+02            750.000000                          720.000000   \n",
       "mean   1.175478e+08              0.050262                            5.593627   \n",
       "std    1.584381e+08              2.517809                           40.543478   \n",
       "min    9.718851e+06            -15.422900                          -61.433175   \n",
       "25%    3.086624e+07             -1.288053                          -19.804284   \n",
       "50%    5.306088e+07              0.000000                            0.512586   \n",
       "75%    1.327218e+08              1.650888                           21.800622   \n",
       "max    1.453439e+09              9.882230                          327.408924   \n",
       "\n",
       "       previous_weeks_volume  next_weeks_open  next_weeks_close  \\\n",
       "count           7.200000e+02       750.000000        750.000000   \n",
       "mean            1.173876e+08        53.702440         53.889080   \n",
       "std             1.592322e+08        32.778111         33.016677   \n",
       "min             9.718851e+06        10.520000         10.520000   \n",
       "25%             3.067832e+07        30.315000         30.462500   \n",
       "50%             5.294556e+07        46.015000         46.125000   \n",
       "75%             1.333230e+08        72.715000         72.915000   \n",
       "max             1.453439e+09       172.110000        174.540000   \n",
       "\n",
       "       percent_change_next_weeks_price  days_to_next_dividend  \\\n",
       "count                       750.000000             750.000000   \n",
       "mean                          0.238468              52.525333   \n",
       "std                           2.679538              46.335098   \n",
       "min                         -15.422900               0.000000   \n",
       "25%                          -1.222067              24.000000   \n",
       "50%                           0.101193              47.000000   \n",
       "75%                           1.845562              69.000000   \n",
       "max                           9.882230             336.000000   \n",
       "\n",
       "       percent_return_next_dividend  \n",
       "count                    750.000000  \n",
       "mean                       0.691826  \n",
       "std                        0.305482  \n",
       "min                        0.065574  \n",
       "25%                        0.534549  \n",
       "50%                        0.681067  \n",
       "75%                        0.854291  \n",
       "max                        1.564210  "
      ]
     },
     "execution_count": 90,
     "metadata": {},
     "output_type": "execute_result"
    }
   ],
   "source": [
    "df.describe()"
   ]
  },
  {
   "cell_type": "code",
   "execution_count": 91,
   "metadata": {},
   "outputs": [
    {
     "data": {
      "text/plain": [
       "quarter                                                 1\n",
       "stock                                                  AA\n",
       "date                                  2011-01-07 00:00:00\n",
       "open                                                15.82\n",
       "high                                                16.72\n",
       "low                                                 15.78\n",
       "close                                               16.42\n",
       "volume                                          239655616\n",
       "percent_change_price                              3.79267\n",
       "percent_change_volume_over_last_wk                    NaN\n",
       "previous_weeks_volume                                 NaN\n",
       "next_weeks_open                                     16.71\n",
       "next_weeks_close                                    15.97\n",
       "percent_change_next_weeks_price                  -4.42849\n",
       "days_to_next_dividend                                  26\n",
       "percent_return_next_dividend                     0.182704\n",
       "Name: 0, dtype: object"
      ]
     },
     "execution_count": 91,
     "metadata": {},
     "output_type": "execute_result"
    }
   ],
   "source": [
    "df.iloc[0]"
   ]
  },
  {
   "cell_type": "code",
   "execution_count": 92,
   "metadata": {},
   "outputs": [
    {
     "data": {
      "text/html": [
       "<div>\n",
       "<style>\n",
       "    .dataframe thead tr:only-child th {\n",
       "        text-align: right;\n",
       "    }\n",
       "\n",
       "    .dataframe thead th {\n",
       "        text-align: left;\n",
       "    }\n",
       "\n",
       "    .dataframe tbody tr th {\n",
       "        vertical-align: top;\n",
       "    }\n",
       "</style>\n",
       "<table border=\"1\" class=\"dataframe\">\n",
       "  <thead>\n",
       "    <tr style=\"text-align: right;\">\n",
       "      <th></th>\n",
       "      <th>quarter</th>\n",
       "      <th>stock</th>\n",
       "      <th>date</th>\n",
       "      <th>open</th>\n",
       "      <th>high</th>\n",
       "      <th>low</th>\n",
       "      <th>close</th>\n",
       "      <th>volume</th>\n",
       "      <th>percent_change_price</th>\n",
       "      <th>percent_change_volume_over_last_wk</th>\n",
       "      <th>previous_weeks_volume</th>\n",
       "      <th>next_weeks_open</th>\n",
       "      <th>next_weeks_close</th>\n",
       "      <th>percent_change_next_weeks_price</th>\n",
       "      <th>days_to_next_dividend</th>\n",
       "      <th>percent_return_next_dividend</th>\n",
       "    </tr>\n",
       "  </thead>\n",
       "  <tbody>\n",
       "    <tr>\n",
       "      <th>5</th>\n",
       "      <td>1</td>\n",
       "      <td>AA</td>\n",
       "      <td>2011-02-11</td>\n",
       "      <td>17.33</td>\n",
       "      <td>17.48</td>\n",
       "      <td>16.97</td>\n",
       "      <td>17.37</td>\n",
       "      <td>114691279</td>\n",
       "      <td>0.230814</td>\n",
       "      <td>-25.712195</td>\n",
       "      <td>154387761.0</td>\n",
       "      <td>17.39</td>\n",
       "      <td>17.28</td>\n",
       "      <td>-0.632547</td>\n",
       "      <td>90</td>\n",
       "      <td>0.172712</td>\n",
       "    </tr>\n",
       "    <tr>\n",
       "      <th>6</th>\n",
       "      <td>1</td>\n",
       "      <td>AA</td>\n",
       "      <td>2011-02-18</td>\n",
       "      <td>17.39</td>\n",
       "      <td>17.68</td>\n",
       "      <td>17.28</td>\n",
       "      <td>17.28</td>\n",
       "      <td>80023895</td>\n",
       "      <td>-0.632547</td>\n",
       "      <td>-30.226696</td>\n",
       "      <td>114691279.0</td>\n",
       "      <td>16.98</td>\n",
       "      <td>16.68</td>\n",
       "      <td>-1.766780</td>\n",
       "      <td>83</td>\n",
       "      <td>0.173611</td>\n",
       "    </tr>\n",
       "    <tr>\n",
       "      <th>7</th>\n",
       "      <td>1</td>\n",
       "      <td>AA</td>\n",
       "      <td>2011-02-25</td>\n",
       "      <td>16.98</td>\n",
       "      <td>17.15</td>\n",
       "      <td>15.96</td>\n",
       "      <td>16.68</td>\n",
       "      <td>132981863</td>\n",
       "      <td>-1.766780</td>\n",
       "      <td>66.177694</td>\n",
       "      <td>80023895.0</td>\n",
       "      <td>16.81</td>\n",
       "      <td>16.58</td>\n",
       "      <td>-1.368230</td>\n",
       "      <td>76</td>\n",
       "      <td>0.179856</td>\n",
       "    </tr>\n",
       "    <tr>\n",
       "      <th>8</th>\n",
       "      <td>1</td>\n",
       "      <td>AA</td>\n",
       "      <td>2011-03-04</td>\n",
       "      <td>16.81</td>\n",
       "      <td>16.94</td>\n",
       "      <td>16.13</td>\n",
       "      <td>16.58</td>\n",
       "      <td>109493077</td>\n",
       "      <td>-1.368230</td>\n",
       "      <td>-17.663150</td>\n",
       "      <td>132981863.0</td>\n",
       "      <td>16.58</td>\n",
       "      <td>16.03</td>\n",
       "      <td>-3.317250</td>\n",
       "      <td>69</td>\n",
       "      <td>0.180941</td>\n",
       "    </tr>\n",
       "    <tr>\n",
       "      <th>9</th>\n",
       "      <td>1</td>\n",
       "      <td>AA</td>\n",
       "      <td>2011-03-11</td>\n",
       "      <td>16.58</td>\n",
       "      <td>16.75</td>\n",
       "      <td>15.42</td>\n",
       "      <td>16.03</td>\n",
       "      <td>114332562</td>\n",
       "      <td>-3.317250</td>\n",
       "      <td>4.419900</td>\n",
       "      <td>109493077.0</td>\n",
       "      <td>15.95</td>\n",
       "      <td>16.11</td>\n",
       "      <td>1.003130</td>\n",
       "      <td>62</td>\n",
       "      <td>0.187149</td>\n",
       "    </tr>\n",
       "    <tr>\n",
       "      <th>10</th>\n",
       "      <td>1</td>\n",
       "      <td>AA</td>\n",
       "      <td>2011-03-18</td>\n",
       "      <td>15.95</td>\n",
       "      <td>16.33</td>\n",
       "      <td>15.43</td>\n",
       "      <td>16.11</td>\n",
       "      <td>130374108</td>\n",
       "      <td>1.003130</td>\n",
       "      <td>14.030601</td>\n",
       "      <td>114332562.0</td>\n",
       "      <td>16.38</td>\n",
       "      <td>17.09</td>\n",
       "      <td>4.334550</td>\n",
       "      <td>55</td>\n",
       "      <td>0.186220</td>\n",
       "    </tr>\n",
       "  </tbody>\n",
       "</table>\n",
       "</div>"
      ],
      "text/plain": [
       "    quarter stock       date   open   high    low  close     volume  \\\n",
       "5         1    AA 2011-02-11  17.33  17.48  16.97  17.37  114691279   \n",
       "6         1    AA 2011-02-18  17.39  17.68  17.28  17.28   80023895   \n",
       "7         1    AA 2011-02-25  16.98  17.15  15.96  16.68  132981863   \n",
       "8         1    AA 2011-03-04  16.81  16.94  16.13  16.58  109493077   \n",
       "9         1    AA 2011-03-11  16.58  16.75  15.42  16.03  114332562   \n",
       "10        1    AA 2011-03-18  15.95  16.33  15.43  16.11  130374108   \n",
       "\n",
       "    percent_change_price  percent_change_volume_over_last_wk  \\\n",
       "5               0.230814                          -25.712195   \n",
       "6              -0.632547                          -30.226696   \n",
       "7              -1.766780                           66.177694   \n",
       "8              -1.368230                          -17.663150   \n",
       "9              -3.317250                            4.419900   \n",
       "10              1.003130                           14.030601   \n",
       "\n",
       "    previous_weeks_volume  next_weeks_open  next_weeks_close  \\\n",
       "5             154387761.0            17.39             17.28   \n",
       "6             114691279.0            16.98             16.68   \n",
       "7              80023895.0            16.81             16.58   \n",
       "8             132981863.0            16.58             16.03   \n",
       "9             109493077.0            15.95             16.11   \n",
       "10            114332562.0            16.38             17.09   \n",
       "\n",
       "    percent_change_next_weeks_price  days_to_next_dividend  \\\n",
       "5                         -0.632547                     90   \n",
       "6                         -1.766780                     83   \n",
       "7                         -1.368230                     76   \n",
       "8                         -3.317250                     69   \n",
       "9                          1.003130                     62   \n",
       "10                         4.334550                     55   \n",
       "\n",
       "    percent_return_next_dividend  \n",
       "5                       0.172712  \n",
       "6                       0.173611  \n",
       "7                       0.179856  \n",
       "8                       0.180941  \n",
       "9                       0.187149  \n",
       "10                      0.186220  "
      ]
     },
     "execution_count": 92,
     "metadata": {},
     "output_type": "execute_result"
    }
   ],
   "source": [
    "df.iloc[5:11]"
   ]
  },
  {
   "cell_type": "code",
   "execution_count": 93,
   "metadata": {},
   "outputs": [
    {
     "data": {
      "text/html": [
       "<div>\n",
       "<style>\n",
       "    .dataframe thead tr:only-child th {\n",
       "        text-align: right;\n",
       "    }\n",
       "\n",
       "    .dataframe thead th {\n",
       "        text-align: left;\n",
       "    }\n",
       "\n",
       "    .dataframe tbody tr th {\n",
       "        vertical-align: top;\n",
       "    }\n",
       "</style>\n",
       "<table border=\"1\" class=\"dataframe\">\n",
       "  <thead>\n",
       "    <tr style=\"text-align: right;\">\n",
       "      <th></th>\n",
       "      <th>open</th>\n",
       "      <th>high</th>\n",
       "      <th>low</th>\n",
       "      <th>close</th>\n",
       "    </tr>\n",
       "  </thead>\n",
       "  <tbody>\n",
       "    <tr>\n",
       "      <th>0</th>\n",
       "      <td>15.82</td>\n",
       "      <td>16.72</td>\n",
       "      <td>15.78</td>\n",
       "      <td>16.42</td>\n",
       "    </tr>\n",
       "    <tr>\n",
       "      <th>1</th>\n",
       "      <td>16.71</td>\n",
       "      <td>16.71</td>\n",
       "      <td>15.64</td>\n",
       "      <td>15.97</td>\n",
       "    </tr>\n",
       "    <tr>\n",
       "      <th>2</th>\n",
       "      <td>16.19</td>\n",
       "      <td>16.38</td>\n",
       "      <td>15.60</td>\n",
       "      <td>15.79</td>\n",
       "    </tr>\n",
       "    <tr>\n",
       "      <th>3</th>\n",
       "      <td>15.87</td>\n",
       "      <td>16.63</td>\n",
       "      <td>15.82</td>\n",
       "      <td>16.13</td>\n",
       "    </tr>\n",
       "    <tr>\n",
       "      <th>4</th>\n",
       "      <td>16.18</td>\n",
       "      <td>17.39</td>\n",
       "      <td>16.18</td>\n",
       "      <td>17.14</td>\n",
       "    </tr>\n",
       "    <tr>\n",
       "      <th>5</th>\n",
       "      <td>17.33</td>\n",
       "      <td>17.48</td>\n",
       "      <td>16.97</td>\n",
       "      <td>17.37</td>\n",
       "    </tr>\n",
       "    <tr>\n",
       "      <th>6</th>\n",
       "      <td>17.39</td>\n",
       "      <td>17.68</td>\n",
       "      <td>17.28</td>\n",
       "      <td>17.28</td>\n",
       "    </tr>\n",
       "    <tr>\n",
       "      <th>7</th>\n",
       "      <td>16.98</td>\n",
       "      <td>17.15</td>\n",
       "      <td>15.96</td>\n",
       "      <td>16.68</td>\n",
       "    </tr>\n",
       "    <tr>\n",
       "      <th>8</th>\n",
       "      <td>16.81</td>\n",
       "      <td>16.94</td>\n",
       "      <td>16.13</td>\n",
       "      <td>16.58</td>\n",
       "    </tr>\n",
       "    <tr>\n",
       "      <th>9</th>\n",
       "      <td>16.58</td>\n",
       "      <td>16.75</td>\n",
       "      <td>15.42</td>\n",
       "      <td>16.03</td>\n",
       "    </tr>\n",
       "    <tr>\n",
       "      <th>10</th>\n",
       "      <td>15.95</td>\n",
       "      <td>16.33</td>\n",
       "      <td>15.43</td>\n",
       "      <td>16.11</td>\n",
       "    </tr>\n",
       "  </tbody>\n",
       "</table>\n",
       "</div>"
      ],
      "text/plain": [
       "     open   high    low  close\n",
       "0   15.82  16.72  15.78  16.42\n",
       "1   16.71  16.71  15.64  15.97\n",
       "2   16.19  16.38  15.60  15.79\n",
       "3   15.87  16.63  15.82  16.13\n",
       "4   16.18  17.39  16.18  17.14\n",
       "5   17.33  17.48  16.97  17.37\n",
       "6   17.39  17.68  17.28  17.28\n",
       "7   16.98  17.15  15.96  16.68\n",
       "8   16.81  16.94  16.13  16.58\n",
       "9   16.58  16.75  15.42  16.03\n",
       "10  15.95  16.33  15.43  16.11"
      ]
     },
     "execution_count": 93,
     "metadata": {},
     "output_type": "execute_result"
    }
   ],
   "source": [
    "df.iloc[:11, 3:7]"
   ]
  },
  {
   "cell_type": "code",
   "execution_count": 94,
   "metadata": {
    "collapsed": true
   },
   "outputs": [],
   "source": [
    "df_mini = df.iloc[:11, 3:7]\n",
    "\n",
    "df_mini = df_mini.drop(df_mini.index[0])"
   ]
  },
  {
   "cell_type": "code",
   "execution_count": 95,
   "metadata": {},
   "outputs": [
    {
     "data": {
      "text/html": [
       "<div>\n",
       "<style>\n",
       "    .dataframe thead tr:only-child th {\n",
       "        text-align: right;\n",
       "    }\n",
       "\n",
       "    .dataframe thead th {\n",
       "        text-align: left;\n",
       "    }\n",
       "\n",
       "    .dataframe tbody tr th {\n",
       "        vertical-align: top;\n",
       "    }\n",
       "</style>\n",
       "<table border=\"1\" class=\"dataframe\">\n",
       "  <thead>\n",
       "    <tr style=\"text-align: right;\">\n",
       "      <th></th>\n",
       "      <th>open</th>\n",
       "      <th>high</th>\n",
       "      <th>low</th>\n",
       "      <th>close</th>\n",
       "    </tr>\n",
       "  </thead>\n",
       "  <tbody>\n",
       "    <tr>\n",
       "      <th>1</th>\n",
       "      <td>16.71</td>\n",
       "      <td>16.71</td>\n",
       "      <td>15.64</td>\n",
       "      <td>15.97</td>\n",
       "    </tr>\n",
       "    <tr>\n",
       "      <th>2</th>\n",
       "      <td>16.19</td>\n",
       "      <td>16.38</td>\n",
       "      <td>15.60</td>\n",
       "      <td>15.79</td>\n",
       "    </tr>\n",
       "    <tr>\n",
       "      <th>3</th>\n",
       "      <td>15.87</td>\n",
       "      <td>16.63</td>\n",
       "      <td>15.82</td>\n",
       "      <td>16.13</td>\n",
       "    </tr>\n",
       "    <tr>\n",
       "      <th>4</th>\n",
       "      <td>16.18</td>\n",
       "      <td>17.39</td>\n",
       "      <td>16.18</td>\n",
       "      <td>17.14</td>\n",
       "    </tr>\n",
       "    <tr>\n",
       "      <th>5</th>\n",
       "      <td>17.33</td>\n",
       "      <td>17.48</td>\n",
       "      <td>16.97</td>\n",
       "      <td>17.37</td>\n",
       "    </tr>\n",
       "    <tr>\n",
       "      <th>6</th>\n",
       "      <td>17.39</td>\n",
       "      <td>17.68</td>\n",
       "      <td>17.28</td>\n",
       "      <td>17.28</td>\n",
       "    </tr>\n",
       "    <tr>\n",
       "      <th>7</th>\n",
       "      <td>16.98</td>\n",
       "      <td>17.15</td>\n",
       "      <td>15.96</td>\n",
       "      <td>16.68</td>\n",
       "    </tr>\n",
       "    <tr>\n",
       "      <th>8</th>\n",
       "      <td>16.81</td>\n",
       "      <td>16.94</td>\n",
       "      <td>16.13</td>\n",
       "      <td>16.58</td>\n",
       "    </tr>\n",
       "    <tr>\n",
       "      <th>9</th>\n",
       "      <td>16.58</td>\n",
       "      <td>16.75</td>\n",
       "      <td>15.42</td>\n",
       "      <td>16.03</td>\n",
       "    </tr>\n",
       "    <tr>\n",
       "      <th>10</th>\n",
       "      <td>15.95</td>\n",
       "      <td>16.33</td>\n",
       "      <td>15.43</td>\n",
       "      <td>16.11</td>\n",
       "    </tr>\n",
       "  </tbody>\n",
       "</table>\n",
       "</div>"
      ],
      "text/plain": [
       "     open   high    low  close\n",
       "1   16.71  16.71  15.64  15.97\n",
       "2   16.19  16.38  15.60  15.79\n",
       "3   15.87  16.63  15.82  16.13\n",
       "4   16.18  17.39  16.18  17.14\n",
       "5   17.33  17.48  16.97  17.37\n",
       "6   17.39  17.68  17.28  17.28\n",
       "7   16.98  17.15  15.96  16.68\n",
       "8   16.81  16.94  16.13  16.58\n",
       "9   16.58  16.75  15.42  16.03\n",
       "10  15.95  16.33  15.43  16.11"
      ]
     },
     "execution_count": 95,
     "metadata": {},
     "output_type": "execute_result"
    }
   ],
   "source": [
    "df_mini"
   ]
  },
  {
   "cell_type": "code",
   "execution_count": 96,
   "metadata": {},
   "outputs": [
    {
     "data": {
      "text/plain": [
       "0"
      ]
     },
     "execution_count": 96,
     "metadata": {},
     "output_type": "execute_result"
    }
   ],
   "source": [
    "df.index[0]"
   ]
  },
  {
   "cell_type": "code",
   "execution_count": 97,
   "metadata": {},
   "outputs": [
    {
     "data": {
      "text/plain": [
       "open     16.71\n",
       "high     16.71\n",
       "low      15.64\n",
       "close    15.97\n",
       "Name: 1, dtype: float64"
      ]
     },
     "execution_count": 97,
     "metadata": {},
     "output_type": "execute_result"
    }
   ],
   "source": [
    "df_mini.loc[1]"
   ]
  },
  {
   "cell_type": "code",
   "execution_count": 98,
   "metadata": {
    "collapsed": true
   },
   "outputs": [],
   "source": [
    "df1 = pd.DataFrame({'Nome': ['Alessandro', 'Marco', 'Luigi', 'Francesco'],\n",
    "                    'Linguaggio': ['Python', 'R', 'C#', 'Java']},\n",
    "                   index=[0,1,2,3])\n",
    "\n",
    "df2 = pd.DataFrame({'Nome': ['Luisa', 'Anna', 'Federica', 'Sofia'],\n",
    "                    'Linguaggio': ['Javascript', 'PHP', 'C', 'Python']},\n",
    "                   index=[4,5,6,7])"
   ]
  },
  {
   "cell_type": "code",
   "execution_count": 99,
   "metadata": {},
   "outputs": [
    {
     "name": "stdout",
     "output_type": "stream",
     "text": [
      "  Linguaggio        Nome\n",
      "0     Python  Alessandro\n",
      "1          R       Marco\n",
      "2         C#       Luigi\n",
      "3       Java   Francesco\n",
      "   Linguaggio      Nome\n",
      "4  Javascript     Luisa\n",
      "5         PHP      Anna\n",
      "6           C  Federica\n",
      "7      Python     Sofia\n"
     ]
    }
   ],
   "source": [
    "print(df1)\n",
    "print(df2)"
   ]
  },
  {
   "cell_type": "code",
   "execution_count": 100,
   "metadata": {},
   "outputs": [
    {
     "data": {
      "text/html": [
       "<div>\n",
       "<style>\n",
       "    .dataframe thead tr:only-child th {\n",
       "        text-align: right;\n",
       "    }\n",
       "\n",
       "    .dataframe thead th {\n",
       "        text-align: left;\n",
       "    }\n",
       "\n",
       "    .dataframe tbody tr th {\n",
       "        vertical-align: top;\n",
       "    }\n",
       "</style>\n",
       "<table border=\"1\" class=\"dataframe\">\n",
       "  <thead>\n",
       "    <tr style=\"text-align: right;\">\n",
       "      <th></th>\n",
       "      <th>Linguaggio</th>\n",
       "      <th>Nome</th>\n",
       "    </tr>\n",
       "  </thead>\n",
       "  <tbody>\n",
       "    <tr>\n",
       "      <th>0</th>\n",
       "      <td>Python</td>\n",
       "      <td>Alessandro</td>\n",
       "    </tr>\n",
       "    <tr>\n",
       "      <th>1</th>\n",
       "      <td>R</td>\n",
       "      <td>Marco</td>\n",
       "    </tr>\n",
       "    <tr>\n",
       "      <th>2</th>\n",
       "      <td>C#</td>\n",
       "      <td>Luigi</td>\n",
       "    </tr>\n",
       "    <tr>\n",
       "      <th>3</th>\n",
       "      <td>Java</td>\n",
       "      <td>Francesco</td>\n",
       "    </tr>\n",
       "    <tr>\n",
       "      <th>4</th>\n",
       "      <td>Javascript</td>\n",
       "      <td>Luisa</td>\n",
       "    </tr>\n",
       "    <tr>\n",
       "      <th>5</th>\n",
       "      <td>PHP</td>\n",
       "      <td>Anna</td>\n",
       "    </tr>\n",
       "    <tr>\n",
       "      <th>6</th>\n",
       "      <td>C</td>\n",
       "      <td>Federica</td>\n",
       "    </tr>\n",
       "    <tr>\n",
       "      <th>7</th>\n",
       "      <td>Python</td>\n",
       "      <td>Sofia</td>\n",
       "    </tr>\n",
       "  </tbody>\n",
       "</table>\n",
       "</div>"
      ],
      "text/plain": [
       "   Linguaggio        Nome\n",
       "0      Python  Alessandro\n",
       "1           R       Marco\n",
       "2          C#       Luigi\n",
       "3        Java   Francesco\n",
       "4  Javascript       Luisa\n",
       "5         PHP        Anna\n",
       "6           C    Federica\n",
       "7      Python       Sofia"
      ]
     },
     "execution_count": 100,
     "metadata": {},
     "output_type": "execute_result"
    }
   ],
   "source": [
    "pd.concat([df1, df2])"
   ]
  },
  {
   "cell_type": "code",
   "execution_count": 101,
   "metadata": {},
   "outputs": [
    {
     "data": {
      "text/html": [
       "<div>\n",
       "<style>\n",
       "    .dataframe thead tr:only-child th {\n",
       "        text-align: right;\n",
       "    }\n",
       "\n",
       "    .dataframe thead th {\n",
       "        text-align: left;\n",
       "    }\n",
       "\n",
       "    .dataframe tbody tr th {\n",
       "        vertical-align: top;\n",
       "    }\n",
       "</style>\n",
       "<table border=\"1\" class=\"dataframe\">\n",
       "  <thead>\n",
       "    <tr style=\"text-align: right;\">\n",
       "      <th></th>\n",
       "      <th>Linguaggio</th>\n",
       "      <th>Nome</th>\n",
       "    </tr>\n",
       "  </thead>\n",
       "  <tbody>\n",
       "    <tr>\n",
       "      <th>0</th>\n",
       "      <td>Python</td>\n",
       "      <td>Alessandro</td>\n",
       "    </tr>\n",
       "    <tr>\n",
       "      <th>1</th>\n",
       "      <td>R</td>\n",
       "      <td>Marco</td>\n",
       "    </tr>\n",
       "    <tr>\n",
       "      <th>2</th>\n",
       "      <td>C#</td>\n",
       "      <td>Luigi</td>\n",
       "    </tr>\n",
       "    <tr>\n",
       "      <th>3</th>\n",
       "      <td>Java</td>\n",
       "      <td>Francesco</td>\n",
       "    </tr>\n",
       "    <tr>\n",
       "      <th>0</th>\n",
       "      <td>Javascript</td>\n",
       "      <td>Luisa</td>\n",
       "    </tr>\n",
       "    <tr>\n",
       "      <th>1</th>\n",
       "      <td>PHP</td>\n",
       "      <td>Anna</td>\n",
       "    </tr>\n",
       "    <tr>\n",
       "      <th>2</th>\n",
       "      <td>C</td>\n",
       "      <td>Federica</td>\n",
       "    </tr>\n",
       "    <tr>\n",
       "      <th>3</th>\n",
       "      <td>Python</td>\n",
       "      <td>Sofia</td>\n",
       "    </tr>\n",
       "  </tbody>\n",
       "</table>\n",
       "</div>"
      ],
      "text/plain": [
       "   Linguaggio        Nome\n",
       "0      Python  Alessandro\n",
       "1           R       Marco\n",
       "2          C#       Luigi\n",
       "3        Java   Francesco\n",
       "0  Javascript       Luisa\n",
       "1         PHP        Anna\n",
       "2           C    Federica\n",
       "3      Python       Sofia"
      ]
     },
     "execution_count": 101,
     "metadata": {},
     "output_type": "execute_result"
    }
   ],
   "source": [
    "df3 = pd.DataFrame({'Nome': ['Luisa', 'Anna', 'Federica', 'Sofia'],\n",
    "                    'Linguaggio': ['Javascript', 'PHP', 'C', 'Python']},\n",
    "                   index=[0,1,2,3])\n",
    "nuovo = pd.concat([df1, df3])\n",
    "nuovo"
   ]
  },
  {
   "cell_type": "code",
   "execution_count": 102,
   "metadata": {},
   "outputs": [
    {
     "data": {
      "text/html": [
       "<div>\n",
       "<style>\n",
       "    .dataframe thead tr:only-child th {\n",
       "        text-align: right;\n",
       "    }\n",
       "\n",
       "    .dataframe thead th {\n",
       "        text-align: left;\n",
       "    }\n",
       "\n",
       "    .dataframe tbody tr th {\n",
       "        vertical-align: top;\n",
       "    }\n",
       "</style>\n",
       "<table border=\"1\" class=\"dataframe\">\n",
       "  <thead>\n",
       "    <tr style=\"text-align: right;\">\n",
       "      <th></th>\n",
       "      <th>Linguaggio</th>\n",
       "      <th>Nome</th>\n",
       "    </tr>\n",
       "  </thead>\n",
       "  <tbody>\n",
       "    <tr>\n",
       "      <th>0</th>\n",
       "      <td>Python</td>\n",
       "      <td>Alessandro</td>\n",
       "    </tr>\n",
       "    <tr>\n",
       "      <th>0</th>\n",
       "      <td>Javascript</td>\n",
       "      <td>Luisa</td>\n",
       "    </tr>\n",
       "  </tbody>\n",
       "</table>\n",
       "</div>"
      ],
      "text/plain": [
       "   Linguaggio        Nome\n",
       "0      Python  Alessandro\n",
       "0  Javascript       Luisa"
      ]
     },
     "execution_count": 102,
     "metadata": {},
     "output_type": "execute_result"
    }
   ],
   "source": [
    "nuovo.loc[0]"
   ]
  },
  {
   "cell_type": "code",
   "execution_count": 103,
   "metadata": {},
   "outputs": [
    {
     "data": {
      "text/html": [
       "<div>\n",
       "<style>\n",
       "    .dataframe thead tr:only-child th {\n",
       "        text-align: right;\n",
       "    }\n",
       "\n",
       "    .dataframe thead th {\n",
       "        text-align: left;\n",
       "    }\n",
       "\n",
       "    .dataframe tbody tr th {\n",
       "        vertical-align: top;\n",
       "    }\n",
       "</style>\n",
       "<table border=\"1\" class=\"dataframe\">\n",
       "  <thead>\n",
       "    <tr style=\"text-align: right;\">\n",
       "      <th></th>\n",
       "      <th>Linguaggio</th>\n",
       "      <th>Nome</th>\n",
       "      <th>Eta</th>\n",
       "    </tr>\n",
       "  </thead>\n",
       "  <tbody>\n",
       "    <tr>\n",
       "      <th>0</th>\n",
       "      <td>Python</td>\n",
       "      <td>Alessandro</td>\n",
       "      <td>32</td>\n",
       "    </tr>\n",
       "    <tr>\n",
       "      <th>1</th>\n",
       "      <td>R</td>\n",
       "      <td>Marco</td>\n",
       "      <td>24</td>\n",
       "    </tr>\n",
       "    <tr>\n",
       "      <th>2</th>\n",
       "      <td>C#</td>\n",
       "      <td>Luigi</td>\n",
       "      <td>27</td>\n",
       "    </tr>\n",
       "    <tr>\n",
       "      <th>3</th>\n",
       "      <td>Java</td>\n",
       "      <td>Francesco</td>\n",
       "      <td>43</td>\n",
       "    </tr>\n",
       "    <tr>\n",
       "      <th>4</th>\n",
       "      <td>Javascript</td>\n",
       "      <td>Luisa</td>\n",
       "      <td>35</td>\n",
       "    </tr>\n",
       "    <tr>\n",
       "      <th>5</th>\n",
       "      <td>PHP</td>\n",
       "      <td>Anna</td>\n",
       "      <td>31</td>\n",
       "    </tr>\n",
       "    <tr>\n",
       "      <th>6</th>\n",
       "      <td>C</td>\n",
       "      <td>Federica</td>\n",
       "      <td>22</td>\n",
       "    </tr>\n",
       "    <tr>\n",
       "      <th>7</th>\n",
       "      <td>Python</td>\n",
       "      <td>Sofia</td>\n",
       "      <td>45</td>\n",
       "    </tr>\n",
       "  </tbody>\n",
       "</table>\n",
       "</div>"
      ],
      "text/plain": [
       "   Linguaggio        Nome Eta\n",
       "0      Python  Alessandro  32\n",
       "1           R       Marco  24\n",
       "2          C#       Luigi  27\n",
       "3        Java   Francesco  43\n",
       "4  Javascript       Luisa  35\n",
       "5         PHP        Anna  31\n",
       "6           C    Federica  22\n",
       "7      Python       Sofia  45"
      ]
     },
     "execution_count": 103,
     "metadata": {},
     "output_type": "execute_result"
    }
   ],
   "source": [
    "df4 = pd.DataFrame({'Eta': [\n",
    "                        '32', '24', '27', '43', \n",
    "                        '35', '31', '22', '45'\n",
    "                    ]\n",
    "                   },\n",
    "                   index=[0,1,2,3,4,5,6,7])\n",
    "\n",
    "nuovo = pd.concat([df1, df2])\n",
    "nuovo = pd.concat([nuovo, df4], axis=1)\n",
    "nuovo"
   ]
  },
  {
   "cell_type": "code",
   "execution_count": 105,
   "metadata": {},
   "outputs": [
    {
     "data": {
      "text/html": [
       "<div>\n",
       "<style>\n",
       "    .dataframe thead tr:only-child th {\n",
       "        text-align: right;\n",
       "    }\n",
       "\n",
       "    .dataframe thead th {\n",
       "        text-align: left;\n",
       "    }\n",
       "\n",
       "    .dataframe tbody tr th {\n",
       "        vertical-align: top;\n",
       "    }\n",
       "</style>\n",
       "<table border=\"1\" class=\"dataframe\">\n",
       "  <thead>\n",
       "    <tr style=\"text-align: right;\">\n",
       "      <th></th>\n",
       "      <th>quarter</th>\n",
       "      <th>stock</th>\n",
       "      <th>date</th>\n",
       "      <th>open</th>\n",
       "      <th>high</th>\n",
       "      <th>low</th>\n",
       "      <th>close</th>\n",
       "      <th>volume</th>\n",
       "      <th>percent_change_price</th>\n",
       "      <th>percent_change_volume_over_last_wk</th>\n",
       "      <th>previous_weeks_volume</th>\n",
       "      <th>next_weeks_open</th>\n",
       "      <th>next_weeks_close</th>\n",
       "      <th>percent_change_next_weeks_price</th>\n",
       "      <th>days_to_next_dividend</th>\n",
       "      <th>percent_return_next_dividend</th>\n",
       "    </tr>\n",
       "  </thead>\n",
       "  <tbody>\n",
       "    <tr>\n",
       "      <th>0</th>\n",
       "      <td>1</td>\n",
       "      <td>AA</td>\n",
       "      <td>2011-01-07</td>\n",
       "      <td>15.82</td>\n",
       "      <td>16.72</td>\n",
       "      <td>15.78</td>\n",
       "      <td>16.42</td>\n",
       "      <td>239655616</td>\n",
       "      <td>3.79267</td>\n",
       "      <td>NaN</td>\n",
       "      <td>NaN</td>\n",
       "      <td>16.71</td>\n",
       "      <td>15.97</td>\n",
       "      <td>-4.428490</td>\n",
       "      <td>26</td>\n",
       "      <td>0.182704</td>\n",
       "    </tr>\n",
       "    <tr>\n",
       "      <th>1</th>\n",
       "      <td>1</td>\n",
       "      <td>AA</td>\n",
       "      <td>2011-01-14</td>\n",
       "      <td>16.71</td>\n",
       "      <td>16.71</td>\n",
       "      <td>15.64</td>\n",
       "      <td>15.97</td>\n",
       "      <td>242963398</td>\n",
       "      <td>-4.42849</td>\n",
       "      <td>1.380223</td>\n",
       "      <td>239655616.0</td>\n",
       "      <td>16.19</td>\n",
       "      <td>15.79</td>\n",
       "      <td>-2.470660</td>\n",
       "      <td>19</td>\n",
       "      <td>0.187852</td>\n",
       "    </tr>\n",
       "    <tr>\n",
       "      <th>2</th>\n",
       "      <td>1</td>\n",
       "      <td>AA</td>\n",
       "      <td>2011-01-21</td>\n",
       "      <td>16.19</td>\n",
       "      <td>16.38</td>\n",
       "      <td>15.60</td>\n",
       "      <td>15.79</td>\n",
       "      <td>138428495</td>\n",
       "      <td>-2.47066</td>\n",
       "      <td>-43.024959</td>\n",
       "      <td>242963398.0</td>\n",
       "      <td>15.87</td>\n",
       "      <td>16.13</td>\n",
       "      <td>1.638310</td>\n",
       "      <td>12</td>\n",
       "      <td>0.189994</td>\n",
       "    </tr>\n",
       "    <tr>\n",
       "      <th>3</th>\n",
       "      <td>1</td>\n",
       "      <td>AA</td>\n",
       "      <td>2011-01-28</td>\n",
       "      <td>15.87</td>\n",
       "      <td>16.63</td>\n",
       "      <td>15.82</td>\n",
       "      <td>16.13</td>\n",
       "      <td>151379173</td>\n",
       "      <td>1.63831</td>\n",
       "      <td>9.355500</td>\n",
       "      <td>138428495.0</td>\n",
       "      <td>16.18</td>\n",
       "      <td>17.14</td>\n",
       "      <td>5.933250</td>\n",
       "      <td>5</td>\n",
       "      <td>0.185989</td>\n",
       "    </tr>\n",
       "    <tr>\n",
       "      <th>4</th>\n",
       "      <td>1</td>\n",
       "      <td>AA</td>\n",
       "      <td>2011-02-04</td>\n",
       "      <td>16.18</td>\n",
       "      <td>17.39</td>\n",
       "      <td>16.18</td>\n",
       "      <td>17.14</td>\n",
       "      <td>154387761</td>\n",
       "      <td>5.93325</td>\n",
       "      <td>1.987452</td>\n",
       "      <td>151379173.0</td>\n",
       "      <td>17.33</td>\n",
       "      <td>17.37</td>\n",
       "      <td>0.230814</td>\n",
       "      <td>97</td>\n",
       "      <td>0.175029</td>\n",
       "    </tr>\n",
       "  </tbody>\n",
       "</table>\n",
       "</div>"
      ],
      "text/plain": [
       "   quarter stock       date   open   high    low  close     volume  \\\n",
       "0        1    AA 2011-01-07  15.82  16.72  15.78  16.42  239655616   \n",
       "1        1    AA 2011-01-14  16.71  16.71  15.64  15.97  242963398   \n",
       "2        1    AA 2011-01-21  16.19  16.38  15.60  15.79  138428495   \n",
       "3        1    AA 2011-01-28  15.87  16.63  15.82  16.13  151379173   \n",
       "4        1    AA 2011-02-04  16.18  17.39  16.18  17.14  154387761   \n",
       "\n",
       "   percent_change_price  percent_change_volume_over_last_wk  \\\n",
       "0               3.79267                                 NaN   \n",
       "1              -4.42849                            1.380223   \n",
       "2              -2.47066                          -43.024959   \n",
       "3               1.63831                            9.355500   \n",
       "4               5.93325                            1.987452   \n",
       "\n",
       "   previous_weeks_volume  next_weeks_open  next_weeks_close  \\\n",
       "0                    NaN            16.71             15.97   \n",
       "1            239655616.0            16.19             15.79   \n",
       "2            242963398.0            15.87             16.13   \n",
       "3            138428495.0            16.18             17.14   \n",
       "4            151379173.0            17.33             17.37   \n",
       "\n",
       "   percent_change_next_weeks_price  days_to_next_dividend  \\\n",
       "0                        -4.428490                     26   \n",
       "1                        -2.470660                     19   \n",
       "2                         1.638310                     12   \n",
       "3                         5.933250                      5   \n",
       "4                         0.230814                     97   \n",
       "\n",
       "   percent_return_next_dividend  \n",
       "0                      0.182704  \n",
       "1                      0.187852  \n",
       "2                      0.189994  \n",
       "3                      0.185989  \n",
       "4                      0.175029  "
      ]
     },
     "execution_count": 105,
     "metadata": {},
     "output_type": "execute_result"
    }
   ],
   "source": [
    "df.head()\n"
   ]
  },
  {
   "cell_type": "code",
   "execution_count": 106,
   "metadata": {},
   "outputs": [
    {
     "data": {
      "text/html": [
       "<div>\n",
       "<style>\n",
       "    .dataframe thead tr:only-child th {\n",
       "        text-align: right;\n",
       "    }\n",
       "\n",
       "    .dataframe thead th {\n",
       "        text-align: left;\n",
       "    }\n",
       "\n",
       "    .dataframe tbody tr th {\n",
       "        vertical-align: top;\n",
       "    }\n",
       "</style>\n",
       "<table border=\"1\" class=\"dataframe\">\n",
       "  <thead>\n",
       "    <tr style=\"text-align: right;\">\n",
       "      <th></th>\n",
       "      <th>open</th>\n",
       "      <th>high</th>\n",
       "      <th>low</th>\n",
       "      <th>close</th>\n",
       "    </tr>\n",
       "  </thead>\n",
       "  <tbody>\n",
       "    <tr>\n",
       "      <th>8</th>\n",
       "      <td>16.81</td>\n",
       "      <td>16.94</td>\n",
       "      <td>16.13</td>\n",
       "      <td>16.58</td>\n",
       "    </tr>\n",
       "    <tr>\n",
       "      <th>428</th>\n",
       "      <td>16.88</td>\n",
       "      <td>16.96</td>\n",
       "      <td>16.52</td>\n",
       "      <td>16.94</td>\n",
       "    </tr>\n",
       "    <tr>\n",
       "      <th>432</th>\n",
       "      <td>16.82</td>\n",
       "      <td>16.87</td>\n",
       "      <td>16.34</td>\n",
       "      <td>16.53</td>\n",
       "    </tr>\n",
       "  </tbody>\n",
       "</table>\n",
       "</div>"
      ],
      "text/plain": [
       "      open   high    low  close\n",
       "8    16.81  16.94  16.13  16.58\n",
       "428  16.88  16.96  16.52  16.94\n",
       "432  16.82  16.87  16.34  16.53"
      ]
     },
     "execution_count": 106,
     "metadata": {},
     "output_type": "execute_result"
    }
   ],
   "source": [
    "q = \"\"\"\n",
    "SELECT open, high, low, close\n",
    "FROM dow_jones_index\n",
    "WHERE high < 17.0\n",
    "  AND low > 16.0\n",
    "  \n",
    "LIMIT 3;\n",
    "\"\"\"\n",
    "\n",
    "where = df[(df['high'] < 17.0) & (df['low'] > 16.0)]\n",
    "where[['open', 'high', 'low', 'close']].head(3)\n"
   ]
  },
  {
   "cell_type": "code",
   "execution_count": 107,
   "metadata": {},
   "outputs": [
    {
     "data": {
      "text/plain": [
       "quarter\n",
       "1    360\n",
       "2    390\n",
       "dtype: int64"
      ]
     },
     "execution_count": 107,
     "metadata": {},
     "output_type": "execute_result"
    }
   ],
   "source": [
    "q = \"\"\"\n",
    "SELECT quarter, COUNT(*)\n",
    "FROM dow_jones_index\n",
    "GROUP BY quarter;\n",
    "\"\"\"\n",
    "\n",
    "df.groupby('quarter').size()"
   ]
  },
  {
   "cell_type": "code",
   "execution_count": 108,
   "metadata": {},
   "outputs": [
    {
     "data": {
      "text/html": [
       "<div>\n",
       "<style>\n",
       "    .dataframe thead tr:only-child th {\n",
       "        text-align: right;\n",
       "    }\n",
       "\n",
       "    .dataframe thead th {\n",
       "        text-align: left;\n",
       "    }\n",
       "\n",
       "    .dataframe tbody tr th {\n",
       "        vertical-align: top;\n",
       "    }\n",
       "</style>\n",
       "<table border=\"1\" class=\"dataframe\">\n",
       "  <thead>\n",
       "    <tr style=\"text-align: right;\">\n",
       "      <th></th>\n",
       "      <th>open</th>\n",
       "      <th>date</th>\n",
       "    </tr>\n",
       "    <tr>\n",
       "      <th>date</th>\n",
       "      <th></th>\n",
       "      <th></th>\n",
       "    </tr>\n",
       "  </thead>\n",
       "  <tbody>\n",
       "    <tr>\n",
       "      <th>2011-01-07</th>\n",
       "      <td>51.335</td>\n",
       "      <td>30</td>\n",
       "    </tr>\n",
       "    <tr>\n",
       "      <th>2011-01-14</th>\n",
       "      <td>51.157</td>\n",
       "      <td>30</td>\n",
       "    </tr>\n",
       "    <tr>\n",
       "      <th>2011-01-21</th>\n",
       "      <td>51.944</td>\n",
       "      <td>30</td>\n",
       "    </tr>\n",
       "  </tbody>\n",
       "</table>\n",
       "</div>"
      ],
      "text/plain": [
       "              open  date\n",
       "date                    \n",
       "2011-01-07  51.335    30\n",
       "2011-01-14  51.157    30\n",
       "2011-01-21  51.944    30"
      ]
     },
     "execution_count": 108,
     "metadata": {},
     "output_type": "execute_result"
    }
   ],
   "source": [
    "q = \"\"\"\n",
    "SELECT date, AVG(open), COUNT(*)\n",
    "FROM dow_jones_index\n",
    "GROUP BY day\n",
    "LIMIT 3;\n",
    "\"\"\"\n",
    "\n",
    "df.groupby('date').agg({'open': np.mean, 'date': np.size}).head(3)"
   ]
  },
  {
   "cell_type": "code",
   "execution_count": 109,
   "metadata": {
    "collapsed": true
   },
   "outputs": [],
   "source": [
    "df1 = pd.DataFrame({'key': ['A', 'B', 'C', 'D'],\n",
    "                    'value': np.random.randn(4)}) \n",
    "\n",
    "df2 = pd.DataFrame({'key': ['B', 'D', 'D', 'E'],\n",
    "                    'value': np.random.randn(4)})"
   ]
  },
  {
   "cell_type": "code",
   "execution_count": 37,
   "metadata": {},
   "outputs": [
    {
     "data": {
      "text/html": [
       "<div>\n",
       "<style>\n",
       "    .dataframe thead tr:only-child th {\n",
       "        text-align: right;\n",
       "    }\n",
       "\n",
       "    .dataframe thead th {\n",
       "        text-align: left;\n",
       "    }\n",
       "\n",
       "    .dataframe tbody tr th {\n",
       "        vertical-align: top;\n",
       "    }\n",
       "</style>\n",
       "<table border=\"1\" class=\"dataframe\">\n",
       "  <thead>\n",
       "    <tr style=\"text-align: right;\">\n",
       "      <th></th>\n",
       "      <th>key</th>\n",
       "      <th>value_x</th>\n",
       "      <th>value_y</th>\n",
       "    </tr>\n",
       "  </thead>\n",
       "  <tbody>\n",
       "    <tr>\n",
       "      <th>0</th>\n",
       "      <td>B</td>\n",
       "      <td>-0.353438</td>\n",
       "      <td>0.356389</td>\n",
       "    </tr>\n",
       "    <tr>\n",
       "      <th>1</th>\n",
       "      <td>D</td>\n",
       "      <td>0.070818</td>\n",
       "      <td>1.533973</td>\n",
       "    </tr>\n",
       "    <tr>\n",
       "      <th>2</th>\n",
       "      <td>D</td>\n",
       "      <td>0.070818</td>\n",
       "      <td>-0.769190</td>\n",
       "    </tr>\n",
       "  </tbody>\n",
       "</table>\n",
       "</div>"
      ],
      "text/plain": [
       "  key   value_x   value_y\n",
       "0   B -0.353438  0.356389\n",
       "1   D  0.070818  1.533973\n",
       "2   D  0.070818 -0.769190"
      ]
     },
     "execution_count": 37,
     "metadata": {},
     "output_type": "execute_result"
    }
   ],
   "source": [
    "q = \"\"\"\n",
    "SELECT *\n",
    "FROM df1\n",
    "INNER JOIN df2\n",
    "  ON df1.key = df2.key;\n",
    "\"\"\"\n",
    "\n",
    "pd.merge(df1, df2, on='key')"
   ]
  },
  {
   "cell_type": "code",
   "execution_count": null,
   "metadata": {
    "collapsed": true
   },
   "outputs": [],
   "source": []
  }
 ],
 "metadata": {
  "kernelspec": {
   "display_name": "Python 3",
   "language": "python",
   "name": "python3"
  },
  "language_info": {
   "codemirror_mode": {
    "name": "ipython",
    "version": 3
   },
   "file_extension": ".py",
   "mimetype": "text/x-python",
   "name": "python",
   "nbconvert_exporter": "python",
   "pygments_lexer": "ipython3",
   "version": "3.6.2"
  }
 },
 "nbformat": 4,
 "nbformat_minor": 2
}
