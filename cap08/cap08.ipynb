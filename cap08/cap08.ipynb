{
 "cells": [
  {
   "cell_type": "code",
   "execution_count": 1,
   "metadata": {
    "collapsed": true
   },
   "outputs": [],
   "source": [
    "import pandas as pd\n",
    "\n",
    "df = pd.read_csv('vendite.csv')"
   ]
  },
  {
   "cell_type": "code",
   "execution_count": 2,
   "metadata": {},
   "outputs": [
    {
     "data": {
      "text/html": [
       "<div>\n",
       "<style>\n",
       "    .dataframe thead tr:only-child th {\n",
       "        text-align: right;\n",
       "    }\n",
       "\n",
       "    .dataframe thead th {\n",
       "        text-align: left;\n",
       "    }\n",
       "\n",
       "    .dataframe tbody tr th {\n",
       "        vertical-align: top;\n",
       "    }\n",
       "</style>\n",
       "<table border=\"1\" class=\"dataframe\">\n",
       "  <thead>\n",
       "    <tr style=\"text-align: right;\">\n",
       "      <th></th>\n",
       "      <th>transazione</th>\n",
       "      <th>data_vendita</th>\n",
       "      <th>libro</th>\n",
       "      <th>pezzi</th>\n",
       "      <th>prezzo</th>\n",
       "      <th>cliente</th>\n",
       "    </tr>\n",
       "  </thead>\n",
       "  <tbody>\n",
       "    <tr>\n",
       "      <th>0</th>\n",
       "      <td>1</td>\n",
       "      <td>2017-02-04</td>\n",
       "      <td>1</td>\n",
       "      <td>1</td>\n",
       "      <td>14.9</td>\n",
       "      <td>6906</td>\n",
       "    </tr>\n",
       "    <tr>\n",
       "      <th>1</th>\n",
       "      <td>1</td>\n",
       "      <td>2017-02-04</td>\n",
       "      <td>5</td>\n",
       "      <td>1</td>\n",
       "      <td>12.9</td>\n",
       "      <td>6906</td>\n",
       "    </tr>\n",
       "    <tr>\n",
       "      <th>2</th>\n",
       "      <td>2</td>\n",
       "      <td>2017-03-03</td>\n",
       "      <td>1</td>\n",
       "      <td>1</td>\n",
       "      <td>14.9</td>\n",
       "      <td>6720</td>\n",
       "    </tr>\n",
       "    <tr>\n",
       "      <th>3</th>\n",
       "      <td>2</td>\n",
       "      <td>2017-03-03</td>\n",
       "      <td>3</td>\n",
       "      <td>1</td>\n",
       "      <td>14.9</td>\n",
       "      <td>6720</td>\n",
       "    </tr>\n",
       "    <tr>\n",
       "      <th>4</th>\n",
       "      <td>2</td>\n",
       "      <td>2017-03-03</td>\n",
       "      <td>4</td>\n",
       "      <td>1</td>\n",
       "      <td>12.9</td>\n",
       "      <td>6720</td>\n",
       "    </tr>\n",
       "  </tbody>\n",
       "</table>\n",
       "</div>"
      ],
      "text/plain": [
       "   transazione data_vendita  libro  pezzi  prezzo  cliente\n",
       "0            1   2017-02-04      1      1    14.9     6906\n",
       "1            1   2017-02-04      5      1    12.9     6906\n",
       "2            2   2017-03-03      1      1    14.9     6720\n",
       "3            2   2017-03-03      3      1    14.9     6720\n",
       "4            2   2017-03-03      4      1    12.9     6720"
      ]
     },
     "execution_count": 2,
     "metadata": {},
     "output_type": "execute_result"
    }
   ],
   "source": [
    "df.head()"
   ]
  },
  {
   "cell_type": "code",
   "execution_count": 3,
   "metadata": {},
   "outputs": [
    {
     "data": {
      "text/plain": [
       "True"
      ]
     },
     "execution_count": 3,
     "metadata": {},
     "output_type": "execute_result"
    }
   ],
   "source": [
    "all(df.groupby(['transazione', 'data_vendita']).data_vendita.nunique() == 1)"
   ]
  },
  {
   "cell_type": "code",
   "execution_count": 4,
   "metadata": {},
   "outputs": [
    {
     "data": {
      "text/html": [
       "<div>\n",
       "<style>\n",
       "    .dataframe thead tr:only-child th {\n",
       "        text-align: right;\n",
       "    }\n",
       "\n",
       "    .dataframe thead th {\n",
       "        text-align: left;\n",
       "    }\n",
       "\n",
       "    .dataframe tbody tr th {\n",
       "        vertical-align: top;\n",
       "    }\n",
       "</style>\n",
       "<table border=\"1\" class=\"dataframe\">\n",
       "  <thead>\n",
       "    <tr style=\"text-align: right;\">\n",
       "      <th></th>\n",
       "      <th>transazione</th>\n",
       "      <th>libro</th>\n",
       "      <th>cliente</th>\n",
       "    </tr>\n",
       "  </thead>\n",
       "  <tbody>\n",
       "    <tr>\n",
       "      <th>0</th>\n",
       "      <td>1</td>\n",
       "      <td>1</td>\n",
       "      <td>6906</td>\n",
       "    </tr>\n",
       "    <tr>\n",
       "      <th>1</th>\n",
       "      <td>1</td>\n",
       "      <td>5</td>\n",
       "      <td>6906</td>\n",
       "    </tr>\n",
       "    <tr>\n",
       "      <th>2</th>\n",
       "      <td>2</td>\n",
       "      <td>1</td>\n",
       "      <td>6720</td>\n",
       "    </tr>\n",
       "    <tr>\n",
       "      <th>3</th>\n",
       "      <td>2</td>\n",
       "      <td>3</td>\n",
       "      <td>6720</td>\n",
       "    </tr>\n",
       "    <tr>\n",
       "      <th>4</th>\n",
       "      <td>2</td>\n",
       "      <td>4</td>\n",
       "      <td>6720</td>\n",
       "    </tr>\n",
       "  </tbody>\n",
       "</table>\n",
       "</div>"
      ],
      "text/plain": [
       "   transazione  libro  cliente\n",
       "0            1      1     6906\n",
       "1            1      5     6906\n",
       "2            2      1     6720\n",
       "3            2      3     6720\n",
       "4            2      4     6720"
      ]
     },
     "execution_count": 4,
     "metadata": {},
     "output_type": "execute_result"
    }
   ],
   "source": [
    "df = df[['transazione', 'libro', 'cliente']]\n",
    "df.head()"
   ]
  },
  {
   "cell_type": "code",
   "execution_count": 5,
   "metadata": {},
   "outputs": [],
   "source": [
    "dataset = []\n",
    "for transazione in df.transazione.unique():\n",
    "    libri_venduti = set()\n",
    "    for idx, riga in df[df['transazione'] == transazione].iterrows():\n",
    "        libri_venduti.add(riga.libro)\n",
    "    dataset.append(libri_venduti)"
   ]
  },
  {
   "cell_type": "code",
   "execution_count": 6,
   "metadata": {},
   "outputs": [
    {
     "data": {
      "text/plain": [
       "[{1, 5},\n",
       " {1, 3, 4},\n",
       " {3, 5},\n",
       " {1, 2, 4},\n",
       " {2, 3, 5},\n",
       " {3, 4},\n",
       " {1, 2, 3, 4},\n",
       " {1, 2, 3},\n",
       " {1, 2, 3, 4, 5},\n",
       " {4}]"
      ]
     },
     "execution_count": 6,
     "metadata": {},
     "output_type": "execute_result"
    }
   ],
   "source": [
    "dataset[:10]"
   ]
  },
  {
   "cell_type": "code",
   "execution_count": 25,
   "metadata": {
    "collapsed": true
   },
   "outputs": [],
   "source": [
    "from collections import defaultdict\n",
    "\n",
    "\n",
    "def apriori(dataset, supporto_minimo, dimensione_massima):\n",
    "    \"\"\"\n",
    "    utilizzo\n",
    "    carrelli_frequenti, supporto_carrelli = apriori(\n",
    "                                                dataset,\n",
    "                                                supporto_minimo,\n",
    "                                                dimensione_massima)\n",
    "\n",
    "    Parametri\n",
    "    ----------\n",
    "    dataset : lista di transazioni\n",
    "    supporto_minimo : int\n",
    "        Supporto minimo per considerare un oggetto come frequente\n",
    "    dimensione_massima : int\n",
    "        Dimensione massima di oggetti presenti in un carrello frequente.\n",
    "\n",
    "    Returns\n",
    "    -------\n",
    "    carrelli_frequenti : lista di carrelli acquistati frequentemente\n",
    "    supporto_carrelli : dizionario\n",
    "        In chiave un carrello frequente di oggetti, e valore il supporto\n",
    "        del carrello\n",
    "    \"\"\"\n",
    "\n",
    "    carrelli = defaultdict(list)\n",
    "    puntatori_transazioni = defaultdict(list)\n",
    "    carrelli_frequenti = []\n",
    "\n",
    "    for indice_transazione, transazione in enumerate(dataset):\n",
    "        for libro in transazione:\n",
    "            puntatori_transazioni[libro].append(indice_transazione)\n",
    "            carrelli[frozenset([libro])].append(indice_transazione)\n",
    "\n",
    "    # trasformo in frozenset per velocizzare l'elaborazione\n",
    "    # e filtro solo i libri che superano il supporto minimo\n",
    "    puntatori_transazioni = {\n",
    "        libro: frozenset(indici_transazioni)\n",
    "        for libro, indici_transazioni in puntatori_transazioni.items()\n",
    "        if len(indici_transazioni) >= supporto_minimo\n",
    "    }\n",
    "\n",
    "    carrelli = {k: frozenset(v) for k, v in carrelli.items()}\n",
    "\n",
    "    # primo livello: mantengo solo i carrelli validi\n",
    "    carrelli_partenza = {\n",
    "        k for k, v in carrelli.items()\n",
    "        if len(v) >= supporto_minimo\n",
    "    }\n",
    "\n",
    "    for _ in range(dimensione_massima - 1):\n",
    "        # questa lista_vuota che vado a definire\n",
    "        # diventerà carrelli_partenza del prossimo ciclo\n",
    "        nuovi_carrelli = []\n",
    "\n",
    "        for carrello in carrelli_partenza:\n",
    "            transazioni_carrello = carrelli[carrello]\n",
    "            for libro, indici_transazioni in puntatori_transazioni.items():\n",
    "\n",
    "                if libro not in carrello:\n",
    "                    # ho un libro che non ho nei carrelli_frequenti!\n",
    "                    # Le transazioni del nuovo carrello saranno\n",
    "                    # l'intersezione tra quelle del carrello considerato\n",
    "                    # più quelle in cui è presente il nuovo libro.\n",
    "                    vendite_nuovo_carrello = (\n",
    "                        transazioni_carrello & indici_transazioni\n",
    "                    )\n",
    "                    if len(vendite_nuovo_carrello) >= supporto_minimo:\n",
    "                        # Se supera il paletto del supporto minimo\n",
    "                        # lo aggiungo ai carrelli frequenti, altrimenti\n",
    "                        # scarto lui e tutti i gruppi successivi\n",
    "                        # che includono questo carrello.\n",
    "                        # Il nuovo carrello sarà l'unione degli\n",
    "                        # elementi distinti del carrello di\n",
    "                        # partenza più il nuovo libro.\n",
    "                        nuovo_carrello = frozenset(\n",
    "                            carrello | frozenset([libro])\n",
    "                        )\n",
    "                        if nuovo_carrello not in carrelli:\n",
    "                            nuovi_carrelli.append(nuovo_carrello)\n",
    "                            carrelli[nuovo_carrello] = vendite_nuovo_carrello\n",
    "\n",
    "        # ho finito un altro livello!\n",
    "        if not len(nuovi_carrelli):\n",
    "            # se non ho trovato nuovi carrelli frequenti\n",
    "            # posso uscire\n",
    "            break\n",
    "        # altrimenti, aggiungo i nuovi\n",
    "        # carrelli frequenti alla lista di carrelli da ritornare,\n",
    "        # e imposto i carrelli trovati in questo livello\n",
    "        # come base di partenza per il ciclo successivo.\n",
    "        carrelli_frequenti.extend(carrelli_partenza)\n",
    "        carrelli_partenza = nuovi_carrelli\n",
    "\n",
    "    supporto_carrelli = {}\n",
    "    for carrello in carrelli:\n",
    "        supporto_carrelli[carrello] = float(len(carrelli[carrello]))\n",
    "\n",
    "    return carrelli_frequenti, supporto_carrelli"
   ]
  },
  {
   "cell_type": "code",
   "execution_count": 26,
   "metadata": {},
   "outputs": [],
   "source": [
    "freqset, support = apriori(dataset, 0.5, 5)"
   ]
  },
  {
   "cell_type": "code",
   "execution_count": 27,
   "metadata": {},
   "outputs": [
    {
     "data": {
      "text/plain": [
       "[frozenset({5}),\n",
       " frozenset({3}),\n",
       " frozenset({4}),\n",
       " frozenset({1}),\n",
       " frozenset({2}),\n",
       " frozenset({1, 5}),\n",
       " frozenset({3, 5}),\n",
       " frozenset({4, 5}),\n",
       " frozenset({2, 5}),\n",
       " frozenset({1, 3}),\n",
       " frozenset({3, 4}),\n",
       " frozenset({2, 3}),\n",
       " frozenset({1, 4}),\n",
       " frozenset({2, 4}),\n",
       " frozenset({1, 2}),\n",
       " frozenset({1, 3, 5}),\n",
       " frozenset({1, 4, 5}),\n",
       " frozenset({1, 2, 5}),\n",
       " frozenset({3, 4, 5}),\n",
       " frozenset({2, 3, 5}),\n",
       " frozenset({2, 4, 5}),\n",
       " frozenset({1, 3, 4}),\n",
       " frozenset({1, 2, 3}),\n",
       " frozenset({2, 3, 4}),\n",
       " frozenset({1, 2, 4}),\n",
       " frozenset({1, 3, 4, 5}),\n",
       " frozenset({1, 2, 3, 5}),\n",
       " frozenset({1, 2, 4, 5}),\n",
       " frozenset({2, 3, 4, 5}),\n",
       " frozenset({1, 2, 3, 4})]"
      ]
     },
     "execution_count": 27,
     "metadata": {},
     "output_type": "execute_result"
    }
   ],
   "source": [
    "freqset"
   ]
  },
  {
   "cell_type": "code",
   "execution_count": 28,
   "metadata": {},
   "outputs": [
    {
     "data": {
      "text/plain": [
       "{frozenset({1}): 249.0,\n",
       " frozenset({5}): 216.0,\n",
       " frozenset({3}): 239.0,\n",
       " frozenset({4}): 238.0,\n",
       " frozenset({2}): 232.0,\n",
       " frozenset({1, 5}): 112.0,\n",
       " frozenset({3, 5}): 111.0,\n",
       " frozenset({4, 5}): 113.0,\n",
       " frozenset({2, 5}): 98.0,\n",
       " frozenset({1, 3}): 122.0,\n",
       " frozenset({3, 4}): 116.0,\n",
       " frozenset({2, 3}): 110.0,\n",
       " frozenset({1, 4}): 127.0,\n",
       " frozenset({2, 4}): 111.0,\n",
       " frozenset({1, 2}): 122.0,\n",
       " frozenset({1, 3, 5}): 54.0,\n",
       " frozenset({1, 4, 5}): 60.0,\n",
       " frozenset({1, 2, 5}): 48.0,\n",
       " frozenset({3, 4, 5}): 55.0,\n",
       " frozenset({2, 3, 5}): 48.0,\n",
       " frozenset({2, 4, 5}): 43.0,\n",
       " frozenset({1, 3, 4}): 61.0,\n",
       " frozenset({1, 2, 3}): 54.0,\n",
       " frozenset({2, 3, 4}): 46.0,\n",
       " frozenset({1, 2, 4}): 60.0,\n",
       " frozenset({1, 3, 4, 5}): 30.0,\n",
       " frozenset({1, 2, 3, 5}): 23.0,\n",
       " frozenset({1, 2, 4, 5}): 24.0,\n",
       " frozenset({2, 3, 4, 5}): 20.0,\n",
       " frozenset({1, 2, 3, 4}): 27.0,\n",
       " frozenset({1, 2, 3, 4, 5}): 13.0}"
      ]
     },
     "execution_count": 28,
     "metadata": {},
     "output_type": "execute_result"
    }
   ],
   "source": []
  },
  {
   "cell_type": "code",
   "execution_count": 36,
   "metadata": {
    "collapsed": true
   },
   "outputs": [],
   "source": [
    "from collections import namedtuple\n",
    "\n",
    "RegolaAssociativa = namedtuple(\n",
    "    'RegolaAssociativa',\n",
    "    ['antecedente', 'conseguente', 'lift']\n",
    ")\n",
    "\n",
    "def genera_regola(dataset, carrelli_frequenti, supporto, lift_minimo):\n",
    "    vendite = len(dataset)\n",
    "    # scarto quelli con solo 1 libro\n",
    "    frequenti = [f for f in carrelli_frequenti if len(f) > 1]\n",
    "    for carrello in frequenti:\n",
    "        for libro in carrello:\n",
    "            consequente = frozenset([libro])\n",
    "            antecendente = carrello - consequente\n",
    "\n",
    "            p_ab = supporto[carrello] / supporto[antecendente]\n",
    "            \n",
    "            # frazione di tutte le transazioni\n",
    "            # che includono il conseguente\n",
    "            base = supporto[consequente] / vendite\n",
    "            lift = p_ab / base\n",
    "            \n",
    "            if lift > lift_minimo:\n",
    "                yield RegolaAssociativa(\n",
    "                    antecendente,\n",
    "                    consequente,\n",
    "                    lift)"
   ]
  },
  {
   "cell_type": "code",
   "execution_count": 39,
   "metadata": {},
   "outputs": [
    {
     "data": {
      "text/plain": [
       "[RegolaAssociativa(antecedente=frozenset({1, 5}), conseguente=frozenset({4}), lift=1.012905162064826),\n",
       " RegolaAssociativa(antecedente=frozenset({1, 3, 5}), conseguente=frozenset({4}), lift=1.050420168067227),\n",
       " RegolaAssociativa(antecedente=frozenset({1, 3, 4}), conseguente=frozenset({5}), lift=1.0245901639344261),\n",
       " RegolaAssociativa(antecedente=frozenset({2, 4, 5}), conseguente=frozenset({1}), lift=1.0086859064163631),\n",
       " RegolaAssociativa(antecedente=frozenset({2, 3, 4}), conseguente=frozenset({1}), lift=1.0607647983237298)]"
      ]
     },
     "execution_count": 39,
     "metadata": {},
     "output_type": "execute_result"
    }
   ],
   "source": [
    "list(genera_regola(dataset, freqset, support, 1))"
   ]
  },
  {
   "cell_type": "code",
   "execution_count": null,
   "metadata": {
    "collapsed": true
   },
   "outputs": [],
   "source": []
  }
 ],
 "metadata": {
  "anaconda-cloud": {},
  "kernelspec": {
   "display_name": "Python 3",
   "language": "python",
   "name": "python3"
  },
  "language_info": {
   "codemirror_mode": {
    "name": "ipython",
    "version": 3
   },
   "file_extension": ".py",
   "mimetype": "text/x-python",
   "name": "python",
   "nbconvert_exporter": "python",
   "pygments_lexer": "ipython3",
   "version": "3.6.2"
  }
 },
 "nbformat": 4,
 "nbformat_minor": 2
}
