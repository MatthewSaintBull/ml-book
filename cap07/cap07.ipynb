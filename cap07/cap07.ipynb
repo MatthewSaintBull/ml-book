{
 "cells": [
  {
   "cell_type": "code",
   "execution_count": 1,
   "metadata": {
    "collapsed": true
   },
   "outputs": [],
   "source": [
    "%matplotlib inline\n",
    "import pandas as pd"
   ]
  },
  {
   "cell_type": "code",
   "execution_count": 2,
   "metadata": {
    "scrolled": true
   },
   "outputs": [
    {
     "data": {
      "image/png": "[encoded data removed]",
      "text/plain": [
       "<matplotlib.figure.Figure at 0x7f1caa4336d8>"
      ]
     },
     "metadata": {},
     "output_type": "display_data"
    }
   ],
   "source": [
    "import numpy as np\n",
    "import matplotlib.pyplot as plt\n",
    "import math\n",
    "\n",
    "def sigmoid(x):\n",
    "  return 1 / (1 + np.exp(-x))\n",
    "\n",
    "def graph(formula, x_range):  \n",
    "    x = np.array(x_range)  \n",
    "    y = formula(x)  \n",
    "    plt.plot(x, y)  \n",
    "    plt.show() \n",
    "\n",
    "graph(lambda x: sigmoid(x), range(-6, 6))"
   ]
  },
  {
   "cell_type": "code",
   "execution_count": 43,
   "metadata": {},
   "outputs": [
    {
     "data": {
      "image/png": "[encoded data removed]",
      "text/plain": [
       "<matplotlib.figure.Figure at 0x7f1c5e39a7f0>"
      ]
     },
     "metadata": {},
     "output_type": "display_data"
    }
   ],
   "source": [
    "import numpy as np\n",
    "import matplotlib.pyplot as plt\n",
    "\n",
    "def softmax(z):\n",
    "    z_exp = np.exp(z)\n",
    "    sum_z_exp = np.sum(z_exp)\n",
    "    return np.array([round(i / sum_z_exp, 3) for i in z_exp])\n",
    "\n",
    "def graph(formula, x_range): \n",
    "    x = np.array(x_range)  \n",
    "    y = formula(x)  \n",
    "    plt.plot(x, y) \n",
    "\n",
    "graph(lambda x: softmax(x), range(-6, 6))"
   ]
  },
  {
   "cell_type": "code",
   "execution_count": 3,
   "metadata": {
    "collapsed": true
   },
   "outputs": [],
   "source": [
    "import sqlite3\n",
    "import json\n",
    "\n",
    "classi = \"\"\"\n",
    "    CREATE TABLE classi(\n",
    "       id INTEGER PRIMARY KEY AUTOINCREMENT,\n",
    "       classe VARCHAR(50) NOT NULL\n",
    "    );\n",
    "\"\"\"\n",
    "\n",
    "domande = \"\"\"\n",
    "CREATE TABLE domande(\n",
    "       id INTEGER PRIMARY KEY AUTOINCREMENT,\n",
    "       domanda VARCHAR(255) NOT NULL,\n",
    "       id_classe INTEGER NOT NULL,\n",
    "       \n",
    "       FOREIGN KEY (id_classe) REFERENCES classi (id)\n",
    "    );\n",
    "\"\"\"\n",
    "\n",
    "risposte = \"\"\"\n",
    "    CREATE TABLE risposte(\n",
    "       id INTEGER PRIMARY KEY AUTOINCREMENT,\n",
    "       risposta VARCHAR(255) NOT NULL,\n",
    "       id_classe INTEGER NOT NULL,\n",
    "       \n",
    "       FOREIGN KEY (id_classe) REFERENCES classi (id)\n",
    "    );\n",
    "\"\"\"\n",
    "\n",
    "# creo il db e mi ci connetto\n",
    "database = \"bot.db\"\n",
    "conn = sqlite3.connect(database)\n",
    "cursor = conn.cursor()\n",
    "\n",
    "# creo le tabelle\n",
    "for tabella in (classi, domande, risposte):\n",
    "    cursor.execute(tabella)\n",
    "    \n",
    "# scrivo i dati del file json\n",
    "with open(\"data.json\") as f:\n",
    "    data = json.load(f)\n",
    "    for elemento in data:\n",
    "        # aggiungo la classe se non esiste\n",
    "        q = \"INSERT INTO classi (classe) VALUES ('{}')\"\n",
    "        cursor.execute(q.format(elemento['classe']))\n",
    "        id_classe = cursor.lastrowid\n",
    "            \n",
    "        # aggiungo le domande\n",
    "        for domanda in elemento['domande']:\n",
    "            q = \"\"\"\n",
    "                INSERT INTO domande (domanda, id_classe)\n",
    "                VALUES\n",
    "                    (\"{0}\", \"{1}\")\n",
    "            \"\"\".format(domanda, id_classe)\n",
    "            cursor.execute(q)\n",
    "            \n",
    "        # e le risposte\n",
    "        for risposta in elemento['risposte']:\n",
    "            q = \"\"\"\n",
    "                INSERT INTO risposte (risposta, id_classe)\n",
    "                VALUES\n",
    "                    (\"{0}\", \"{1}\")\n",
    "            \"\"\".format(risposta, id_classe)\n",
    "            cursor.execute(q)"
   ]
  },
  {
   "cell_type": "code",
   "execution_count": 4,
   "metadata": {},
   "outputs": [
    {
     "name": "stdout",
     "output_type": "stream",
     "text": [
      "['svilupp', 'svilupp', 'svilupp', 'svilupp', 'svilupp']\n"
     ]
    }
   ],
   "source": [
    "from nltk.stem.snowball import ItalianStemmer\n",
    "stemmer = ItalianStemmer()\n",
    "\n",
    "parole = [\n",
    "    \"sviluppare\", \n",
    "    \"sviluppavo\", \n",
    "    \"sviluppa\", \n",
    "    \"sviluppate\", \n",
    "    \"sviluppiamo\"\n",
    "]\n",
    "\n",
    "temi = [stemmer.stem(parola) for parola in parole]\n",
    "print(temi)"
   ]
  },
  {
   "cell_type": "code",
   "execution_count": 5,
   "metadata": {},
   "outputs": [
    {
     "name": "stdout",
     "output_type": "stream",
     "text": [
      "Le stopwords sono: \n",
      "['per', 'questo', 'ebbero', 'più', 'nostri', 'delle', 'nostre']\n",
      "\n",
      "I termini significativi sono: \n",
      "['pauradei', 'discorsiche', 'facce']\n"
     ]
    }
   ],
   "source": [
    "from nltk.corpus import stopwords\n",
    "stop = set(stopwords.words('italian'))\n",
    "frase = \"per questo ebbero più paura\" +\\\n",
    "        \"dei nostri discorsi\" +\\\n",
    "        \"che delle nostre facce\"\n",
    "lista_parole = frase.split(\" \")\n",
    "rimosse = [w for w in lista_parole if w in stop]\n",
    "rimaste = [w for w in lista_parole if w not in stop]\n",
    "print(\"Le stopwords sono: \\n{}\\n\".format(rimosse))\n",
    "print(\"I termini significativi sono: \\n{}\".format(rimaste))"
   ]
  },
  {
   "cell_type": "code",
   "execution_count": 6,
   "metadata": {
    "collapsed": true
   },
   "outputs": [],
   "source": [
    "from nltk.corpus import stopwords\n",
    "from nltk.stem.snowball import ItalianStemmer\n",
    "from nltk import word_tokenize\n",
    "\n",
    "import string\n",
    "\n",
    "stemmer = ItalianStemmer()\n",
    "stop = set(stopwords.words('italian'))\n",
    "\n",
    "def elabora_corpus(corpus):\n",
    "    \"\"\"\n",
    "    corpus sarà una lista di tuple, formata da:\n",
    "    [\n",
    "        (\"una frase\", \"classe1\"),\n",
    "        (\"un'altra frase\", \"classe2\")\n",
    "    ]\n",
    "    \"\"\"\n",
    "    temi = set()\n",
    "    classi = set()\n",
    "    documenti = []\n",
    "    \n",
    "    stop = set(stopwords.words('italian'))\n",
    "    \n",
    "    for frase, classe in corpus:\n",
    "        # rimuovo le stopwords\n",
    "        parole = [\n",
    "            p.replace(\"?\", \"\").lower() for p in word_tokenize(frase) \n",
    "            if p not in stop\n",
    "            and p not in string.punctuation\n",
    "        ]\n",
    "        \n",
    "        temi.update(parole)\n",
    "        documenti.append((parole, classe))\n",
    "        classi.add(classe)\n",
    "\n",
    "    # creo i temi\n",
    "    temi = list(set(stemmer.stem(parola) for parola in temi))\n",
    "    classi = list(classi)\n",
    "    return temi, classi, documenti"
   ]
  },
  {
   "cell_type": "code",
   "execution_count": 7,
   "metadata": {},
   "outputs": [
    {
     "data": {
      "text/plain": [
       "(['cia', 'alessandr', 'chiam'],\n",
       " ['pippo'],\n",
       " [(['ciao', 'chiamo', 'alessandro'], 'pippo')])"
      ]
     },
     "execution_count": 7,
     "metadata": {},
     "output_type": "execute_result"
    }
   ],
   "source": [
    "elabora_corpus([(\"Ciao, mi chiamo Alessandro\", \"pippo\")])"
   ]
  },
  {
   "cell_type": "code",
   "execution_count": 8,
   "metadata": {
    "collapsed": true
   },
   "outputs": [],
   "source": [
    "q = \"\"\"\n",
    "    SELECT domanda, classe\n",
    "    FROM domande\n",
    "    INNER JOIN classi ON (id_classe = classi.id)\n",
    "\"\"\"\n",
    "\n",
    "domande = cursor.execute(q).fetchall()\n",
    "temi, classi, documenti = elabora_corpus(domande)"
   ]
  },
  {
   "cell_type": "code",
   "execution_count": 9,
   "metadata": {},
   "outputs": [
    {
     "name": "stdout",
     "output_type": "stream",
     "text": [
      "Numero di classi: 4\n",
      "Numero di documenti: 12\n",
      "Temi: \n",
      "['accett', 'avet', \"all'apert\", 'cia', 'buongiorn', 'avre', 'pesc', 'escursion', 'cred', 'poss', 'cart', 'mentr', 'disponibil', 'pos', 'pag', 'inform', 'tipic', 'durant', 'sol', 'postepay', 'bisogn', \"qual'\", 'piatt', 'contant', 'salv']\n"
     ]
    }
   ],
   "source": [
    "print(\"Numero di classi: {}\".format(len(classi)))\n",
    "print(\"Numero di documenti: {}\".format(len(documenti)))\n",
    "print(\"Temi: \\n{}\".format(temi))"
   ]
  },
  {
   "cell_type": "code",
   "execution_count": 10,
   "metadata": {},
   "outputs": [
    {
     "name": "stdout",
     "output_type": "stream",
     "text": [
      "Tensor(\"Mul:0\", shape=(4,), dtype=int32)\n"
     ]
    }
   ],
   "source": [
    "import tensorflow as tf\n",
    "\n",
    "x1 = tf.constant([1,2,3,4])\n",
    "x2 = tf.constant([5,6,7,8])\n",
    "\n",
    "risultato = tf.multiply(x1, x2)\n",
    "\n",
    "print(risultato)"
   ]
  },
  {
   "cell_type": "code",
   "execution_count": 11,
   "metadata": {},
   "outputs": [
    {
     "name": "stdout",
     "output_type": "stream",
     "text": [
      "[ 5 12 21 32]\n"
     ]
    }
   ],
   "source": [
    "sessione = tf.Session()\n",
    "print(sessione.run(risultato))\n",
    "sessione.close()"
   ]
  },
  {
   "cell_type": "code",
   "execution_count": 12,
   "metadata": {},
   "outputs": [
    {
     "name": "stdout",
     "output_type": "stream",
     "text": [
      "[ 5 12 21 32]\n"
     ]
    }
   ],
   "source": [
    "with tf.Session() as sessione:\n",
    "    writer = tf.summary.FileWriter('logs', sessione.graph)\n",
    "    print(sessione.run(risultato))"
   ]
  },
  {
   "cell_type": "code",
   "execution_count": 13,
   "metadata": {
    "collapsed": true
   },
   "outputs": [],
   "source": [
    "import random\n",
    "\n",
    "def crea_training_set(documenti, classi):\n",
    "    \"\"\"\n",
    "    Metodo che ritorna una tupla di due valori:\n",
    "        - l'array degli input (train_x)\n",
    "        - l'array degli output (train_y)\n",
    "        \n",
    "    I due array hanno lungezza fissa:\n",
    "     - len(train_x) == len(temi)\n",
    "     - len(train_y) == len(classi) \n",
    "    \"\"\"\n",
    "    training = []\n",
    "    output_vuota = [0] * len(classi)\n",
    "    classi = list(classi)\n",
    "\n",
    "    for parole, classe in documenti:\n",
    "        \n",
    "        temi_frase = [stemmer.stem(parola) for parola in parole]\n",
    "        \n",
    "        # riempio la lista di input\n",
    "        riga_input = [1 if t in temi_frase else 0 for t in temi]\n",
    "\n",
    "        # riepio la lista di output\n",
    "        riga_output = output_vuota[:]\n",
    "        riga_output[classi.index(classe)] = 1\n",
    "\n",
    "        training.append([riga_input, riga_output])\n",
    "\n",
    "    # mischio il mazzo\n",
    "    random.shuffle(training)\n",
    "    # trasformo in un array\n",
    "    training = np.array(training)\n",
    "\n",
    "    # e creo il training set\n",
    "    train_x = list(training[:,0])\n",
    "    train_y = list(training[:,1])\n",
    "    return train_x, train_y"
   ]
  },
  {
   "cell_type": "code",
   "execution_count": 14,
   "metadata": {},
   "outputs": [
    {
     "name": "stdout",
     "output_type": "stream",
     "text": [
      "Temi = ['accett', 'avet', \"all'apert\", 'cia', 'buongiorn', 'avre', 'pesc', 'escursion', 'cred', 'poss', 'cart', 'mentr', 'disponibil', 'pos', 'pag', 'inform', 'tipic', 'durant', 'sol', 'postepay', 'bisogn', \"qual'\", 'piatt', 'contant', 'salv']\n",
      "Classi = ['pagamento', 'menu', 'introduzione', 'pagamento_escursioni']\n"
     ]
    }
   ],
   "source": [
    "print(\"Temi = {}\".format(temi))\n",
    "print(\"Classi = {}\".format(classi))"
   ]
  },
  {
   "cell_type": "code",
   "execution_count": 15,
   "metadata": {},
   "outputs": [
    {
     "name": "stdout",
     "output_type": "stream",
     "text": [
      "Parole Documento = ['avete', 'disponibilità', 'pos', 'durante', 'escursioni']\n",
      "Classe Documento = pagamento_escursioni\n"
     ]
    }
   ],
   "source": [
    "print(\"Parole Documento = {}\".format(documenti[-1][0]))\n",
    "print(\"Classe Documento = {}\".format(documenti[-1][1]))"
   ]
  },
  {
   "cell_type": "code",
   "execution_count": 16,
   "metadata": {},
   "outputs": [
    {
     "name": "stdout",
     "output_type": "stream",
     "text": [
      "([[0, 1, 0, 0, 0, 0, 0, 1, 0, 0, 0, 0, 1, 1, 0, 0, 0, 1, 0, 0, 0, 0, 0, 0, 0]], [[0, 0, 0, 1]])\n"
     ]
    }
   ],
   "source": [
    "print(crea_training_set([documenti[-1]], classi))"
   ]
  },
  {
   "cell_type": "code",
   "execution_count": 17,
   "metadata": {},
   "outputs": [
    {
     "name": "stdout",
     "output_type": "stream",
     "text": [
      "X = [[0, 1, 0, 0, 0, 0, 0, 1, 0, 0, 0, 0, 1, 1, 0, 0, 0, 1, 0, 0, 0, 0, 0, 0, 0], [0, 0, 0, 0, 0, 0, 0, 0, 0, 1, 0, 0, 0, 0, 1, 0, 0, 0, 0, 1, 0, 0, 0, 0, 0], [0, 0, 0, 0, 0, 0, 0, 0, 0, 0, 0, 0, 0, 0, 0, 0, 0, 0, 0, 0, 0, 0, 0, 0, 1], [0, 0, 0, 1, 0, 0, 0, 0, 0, 0, 0, 0, 0, 0, 0, 0, 0, 0, 0, 0, 0, 0, 0, 0, 0], [0, 0, 0, 0, 0, 1, 0, 0, 0, 0, 0, 0, 0, 0, 0, 1, 0, 0, 0, 0, 1, 0, 0, 0, 0], [1, 0, 0, 0, 0, 0, 0, 0, 1, 0, 1, 0, 0, 0, 0, 0, 0, 0, 0, 0, 0, 0, 0, 0, 0], [1, 0, 0, 0, 0, 0, 0, 1, 1, 0, 1, 0, 0, 0, 0, 0, 0, 1, 0, 0, 0, 0, 0, 0, 0], [0, 0, 0, 0, 0, 0, 0, 0, 0, 0, 0, 0, 0, 0, 0, 0, 1, 0, 0, 0, 0, 1, 1, 0, 0], [0, 0, 1, 0, 0, 0, 0, 0, 0, 1, 0, 1, 0, 0, 1, 0, 0, 0, 1, 0, 0, 0, 0, 1, 0], [0, 0, 0, 0, 1, 0, 0, 0, 0, 0, 0, 0, 0, 0, 0, 0, 0, 0, 0, 0, 0, 0, 0, 0, 0], [0, 1, 0, 0, 0, 0, 1, 0, 0, 0, 0, 0, 0, 0, 0, 0, 0, 0, 1, 0, 0, 0, 0, 0, 0], [0, 0, 0, 0, 0, 0, 0, 0, 0, 1, 0, 0, 0, 0, 1, 0, 0, 0, 1, 0, 0, 0, 0, 1, 0]]\n",
      "y = [[0, 0, 0, 1], [1, 0, 0, 0], [0, 0, 1, 0], [0, 0, 1, 0], [0, 0, 1, 0], [1, 0, 0, 0], [0, 0, 0, 1], [0, 1, 0, 0], [0, 0, 0, 1], [0, 0, 1, 0], [0, 1, 0, 0], [1, 0, 0, 0]]\n"
     ]
    }
   ],
   "source": [
    "X, y = crea_training_set(documenti, classi)\n",
    "print(\"X = {}\".format(X))\n",
    "print(\"y = {}\".format(y))"
   ]
  },
  {
   "cell_type": "code",
   "execution_count": 18,
   "metadata": {
    "collapsed": true
   },
   "outputs": [],
   "source": [
    "from tflearn import input_data, fully_connected, regression, DNN\n",
    "def BotANN(X, y):\n",
    "    \"\"\"\n",
    "    Questo metodo definisce e istruisce una \n",
    "    ANN (Artificial Neural Network), di tipo\n",
    "    DNN (Deep Neural Networl) composta da:\n",
    "        - un livello di input, \n",
    "        - due hidden layer,\n",
    "        - uno di output.\n",
    "    Utilizza softmax come funzione di attivazione.\n",
    "    \n",
    "    I parametri sono:\n",
    "       - X: array bidimensionale con i dati di input\n",
    "       - y: array bidimensionale con i dati di output\n",
    "       \n",
    "    Una volta definita la struttura della rete neurale,\n",
    "    ne viene fatto il training, e il modello viene\n",
    "    salvato in un file, chiamato \"rete.tflearn\".\n",
    "    \"\"\"\n",
    "    # resetto i dati del grafo\n",
    "    tf.reset_default_graph()\n",
    "    \n",
    "    # Definire la Rete Neurale\n",
    "    rete = input_data(shape=[None, len(X[0])])\n",
    "    rete = fully_connected(rete, 8)\n",
    "    rete = fully_connected(rete, 8)\n",
    "    rete = fully_connected(rete, len(y[0]), activation='softmax')\n",
    "    rete = regression(rete)\n",
    "    \n",
    "    # Faccio il training\n",
    "    model = DNN(rete, tensorboard_dir='logs')\n",
    "    model.fit(X, y, n_epoch=1000, batch_size=8, show_metric=True)\n",
    "    return model"
   ]
  },
  {
   "cell_type": "code",
   "execution_count": 19,
   "metadata": {},
   "outputs": [
    {
     "name": "stdout",
     "output_type": "stream",
     "text": [
      "Training Step: 1999  | total loss: \u001b[1m\u001b[32m0.11417\u001b[0m\u001b[0m | time: 0.003s\n",
      "| Adam | epoch: 1000 | loss: 0.11417 - acc: 0.9842 -- iter: 08/12\n",
      "Training Step: 2000  | total loss: \u001b[1m\u001b[32m0.10723\u001b[0m\u001b[0m | time: 0.005s\n",
      "| Adam | epoch: 1000 | loss: 0.10723 - acc: 0.9858 -- iter: 12/12\n",
      "--\n"
     ]
    }
   ],
   "source": [
    "modello = BotANN(X, y)"
   ]
  },
  {
   "cell_type": "code",
   "execution_count": 20,
   "metadata": {
    "collapsed": true
   },
   "outputs": [],
   "source": [
    "def genera_temi(testo):\n",
    "    stop = set(stopwords.words('italian'))\n",
    "    lista_parole = word_tokenize(testo)\n",
    "    temi = [\n",
    "        stemmer.stem(p.lower()) for p in lista_parole\n",
    "        if p not in stop and p not in string.punctuation\n",
    "    ]\n",
    "    return temi\n",
    "\n",
    "def genera_input(lista_temi):\n",
    "    \n",
    "    lista_input = [0]*len(temi)  \n",
    "    for tema in lista_temi:\n",
    "        for i, t in enumerate(temi):\n",
    "            if t == tema: \n",
    "                lista_input[i] = 1\n",
    "    return(np.array(lista_input))\n",
    "    "
   ]
  },
  {
   "cell_type": "code",
   "execution_count": 21,
   "metadata": {
    "collapsed": true
   },
   "outputs": [],
   "source": [
    "temi_frase = genera_temi(\"Ciao, mi chiamo Alessandro\")\n",
    "X = genera_input(temi_frase)"
   ]
  },
  {
   "cell_type": "code",
   "execution_count": 22,
   "metadata": {},
   "outputs": [
    {
     "name": "stdout",
     "output_type": "stream",
     "text": [
      "[0 0 0 1 0 0 0 0 0 0 0 0 0 0 0 0 0 0 0 0 0 0 0 0 0]\n"
     ]
    }
   ],
   "source": [
    "print(X)"
   ]
  },
  {
   "cell_type": "code",
   "execution_count": 23,
   "metadata": {
    "collapsed": true
   },
   "outputs": [],
   "source": [
    "SOGLIA_ERRORE = 0.25\n",
    "\n",
    "def classifica(modello, array):\n",
    "    # genera le probabilità \n",
    "    prob = modello.predict([array])[0]\n",
    "    # filtro quelle che superano la soglia\n",
    "    risultati = [\n",
    "        [i,p] for i,p in enumerate(prob) \n",
    "        if p > SOGLIA_ERRORE\n",
    "    ]\n",
    "    # ordino per le classi più probabili\n",
    "    risultati.sort(key=lambda x: x[1], reverse=True)\n",
    "    lista_classi = []\n",
    "    for r in risultati:\n",
    "        lista_classi.append((list(classi)[r[0]], r[1]))\n",
    "    return lista_classi"
   ]
  },
  {
   "cell_type": "code",
   "execution_count": 24,
   "metadata": {
    "collapsed": true
   },
   "outputs": [],
   "source": [
    "def rispondi(modello, frase):\n",
    "    temi_frase = genera_temi(frase)\n",
    "    X = genera_input(temi_frase)\n",
    "    classi_predette = classifica(modello, X)\n",
    "    print(classi_predette)\n",
    "    \n",
    "    if classi_predette:\n",
    "        # leggo le risposte\n",
    "        q = \"\"\"\n",
    "            SELECT risposta \n",
    "            FROM risposte\n",
    "            INNER JOIN classi ON (risposte.id_classe = classi.id)\n",
    "            WHERE classe = '{0}'\n",
    "        \"\"\".format(classi_predette[0][0])\n",
    "        risposte = [r[0] for r in cursor.execute(q).fetchall()]\n",
    "        return np.random.choice(risposte)"
   ]
  },
  {
   "cell_type": "code",
   "execution_count": 25,
   "metadata": {},
   "outputs": [
    {
     "name": "stdout",
     "output_type": "stream",
     "text": [
      "[('introduzione', 0.64983004)]\n"
     ]
    },
    {
     "data": {
      "text/plain": [
       "'Buongiorno, in cosa possiamo esserle utili?'"
      ]
     },
     "execution_count": 25,
     "metadata": {},
     "output_type": "execute_result"
    }
   ],
   "source": [
    "rispondi(modello, \"C'è nessuno?\")"
   ]
  },
  {
   "cell_type": "code",
   "execution_count": 26,
   "metadata": {},
   "outputs": [
    {
     "name": "stdout",
     "output_type": "stream",
     "text": [
      "[('menu', 0.51808208), ('introduzione', 0.28612372)]\n",
      "Noi consigliamo gli spaghetti all'aragostina, ma tutto il menu lo può trovare sul sito: [link]\n",
      "[('pagamento', 0.82679164)]\n",
      "Oltre ai contanti, accettiamo VISA e Mastercard\n"
     ]
    }
   ],
   "source": [
    "print(rispondi(modello, \"Quali piatti consigliate oggi?\"))\n",
    "print(rispondi(modello, \"Posso pagarvi con soldi falsi?\"))"
   ]
  },
  {
   "cell_type": "code",
   "execution_count": 27,
   "metadata": {
    "collapsed": true
   },
   "outputs": [],
   "source": [
    "contesti = \"\"\"\n",
    "CREATE TABLE contesti(\n",
    "       id INTEGER PRIMARY KEY AUTOINCREMENT,\n",
    "       contesto VARCHAR(255) NOT NULL,\n",
    "       id_classe INTEGER NOT NULL,\n",
    "       \n",
    "       FOREIGN KEY (id_classe) REFERENCES classi (id)\n",
    "    );\n",
    "\"\"\"\n",
    "\n",
    "# aggiungo la tabella al db\n",
    "cursor.execute(contesti)\n",
    "\n",
    "# rileggo il file e aggiungo i contesti\n",
    "q_select = \"\"\"\n",
    "    SELECT id FROM classi\n",
    "    WHERE classe = '{}'\n",
    "\"\"\"\n",
    "\n",
    "q_insert = \"\"\"\n",
    "    INSERT INTO contesti (contesto, id_classe)\n",
    "    VALUES (\"{0}\", {1})\n",
    "\"\"\"\n",
    "\n",
    "with open(\"data.json\") as f:\n",
    "    data = json.load(f)\n",
    "\n",
    "# aggiungo l'ultima classe inserita\n",
    "pagamento_escursioni = data[-1]\n",
    "q = \"\"\"\n",
    "INSERT INTO classi (classe)\n",
    "VALUES (\"{}\")\n",
    "\"\"\".format(pagamento_escursioni['classe'])\n",
    "cursor.execute(q)\n",
    "\n",
    "id_classe = cursor.lastrowid\n",
    "for domanda in pagamento_escursioni['domande']:\n",
    "    cursor.execute(\n",
    "        \"\"\"\n",
    "        INSERT INTO domande (domanda, id_classe)\n",
    "        VALUES (\"{}\", {})\n",
    "        \"\"\".format(domanda, id_classe)\n",
    "    )\n",
    "for risposta in pagamento_escursioni['risposte']:\n",
    "    cursor.execute(\n",
    "        \"\"\"\n",
    "        INSERT INTO risposte (risposta, id_classe)\n",
    "        VALUES (\"{}\", {})\n",
    "        \"\"\".format(risposta, id_classe)\n",
    "    )\n",
    "    \n",
    "# aggiungo tutti i contesti\n",
    "for elemento in data:\n",
    "    if elemento.get('contesto'):\n",
    "        id_classe = cursor.execute(\n",
    "            q_select.format(elemento['classe'])\n",
    "        ).fetchone()[0]\n",
    "        cursor.execute(\n",
    "            q_insert.format(elemento['contesto'], id_classe)\n",
    "        )\n",
    "\n"
   ]
  },
  {
   "cell_type": "code",
   "execution_count": 28,
   "metadata": {
    "collapsed": true
   },
   "outputs": [],
   "source": [
    "contesti = {}\n",
    "\n",
    "def rispondi(modello, frase, utente=\"utente_prova\"):\n",
    "    temi_frase = genera_temi(frase)\n",
    "    X = genera_input(temi_frase)\n",
    "    classi_predette = classifica(modello, X)\n",
    "    # tolgo le probabilità\n",
    "    classi_predette = [c[0] for c in classi_predette]\n",
    "    \n",
    "    if classi_predette:\n",
    "        # ho un contesto settato?\n",
    "        if contesti.get(utente):\n",
    "            contesto = contesti[utente]\n",
    "            \n",
    "            # quali classi hanno questo contesto?\n",
    "            q = \"\"\"\n",
    "                SELECT classe FROM classi\n",
    "                INNER JOIN contesti ON (classi.id = contesti.id_classe)\n",
    "                WHERE classe IN ({})\n",
    "            \"\"\".format(\",\".join(\n",
    "                \"'{}'\".format(classe) for classe in classi_predette\n",
    "                )\n",
    "            )\n",
    "            filtro_classi = [c[0] for c in cursor.execute(q).fetchall()]\n",
    "            if filtro_classi:\n",
    "                # ho almeno una classe predetta che usa un contesto\n",
    "                classi_predette = [c for c in classi_predette]\n",
    "                \n",
    "        # leggo le risposte\n",
    "        q = \"\"\"\n",
    "            SELECT risposta \n",
    "            FROM risposte\n",
    "            INNER JOIN classi ON (risposte.id_classe = classi.id)\n",
    "            WHERE classe = '{0}'\n",
    "        \"\"\".format(classi_predette[0])\n",
    "        \n",
    "        risposte = [r[0] for r in cursor.execute(q).fetchall()]\n",
    "        \n",
    "        print(classi_predette)\n",
    "        \n",
    "        # scelgo una risposta\n",
    "        risposta = np.random.choice(risposte)\n",
    "        \n",
    "        # imposto il contesto, se c'è\n",
    "        q = \"\"\"\n",
    "            SELECT contesto from contesti\n",
    "            INNER JOIN classi ON (contesti.id_classe = classi.id)\n",
    "            INNER JOIN risposte ON (risposte.id_classe = classi.id)\n",
    "            WHERE risposta = \"{}\"\n",
    "        \"\"\".format(risposta)\n",
    "        contesto = cursor.execute(q).fetchone()\n",
    "        contesti[utente] = contesto[0] if contesto else None\n",
    "            \n",
    "        return risposta"
   ]
  },
  {
   "cell_type": "code",
   "execution_count": 29,
   "metadata": {},
   "outputs": [
    {
     "name": "stdout",
     "output_type": "stream",
     "text": [
      "['menu', 'introduzione']\n",
      "Forniamo un'ampia scelta di piatti, guardi il menu direttamente sul sito [link]\n",
      "{'utente_prova': 'ristorante'}\n",
      "['pagamento']\n",
      "Oltre ai contanti, accettiamo VISA e Mastercard\n",
      "['pagamento_escursioni']\n",
      "Per questioni pratiche, accettiamo solo contanti, in quanto le escursioni sono all'aperto\n",
      "{'utente_prova': 'escursioni'}\n"
     ]
    }
   ],
   "source": [
    "print(rispondi(modello, \"Quali piatti consigliate oggi?\"))\n",
    "print(contesti)\n",
    "print(rispondi(modello, \"Posso pagare con carta di credito?\"))\n",
    "print(rispondi(modello, \"Avete un pos anche durante le escursioni?\"))\n",
    "print(contesti)"
   ]
  },
  {
   "cell_type": "code",
   "execution_count": 30,
   "metadata": {
    "collapsed": true
   },
   "outputs": [],
   "source": [
    "import pickle\n",
    "\n",
    "d = {\n",
    "    'temi': temi,\n",
    "    'classi': classi,\n",
    "    'documenti': documenti\n",
    "}\n",
    "\n",
    "pickle.dump(d, open(\"corpus.p\", \"wb\"))"
   ]
  },
  {
   "cell_type": "code",
   "execution_count": 31,
   "metadata": {},
   "outputs": [
    {
     "name": "stdout",
     "output_type": "stream",
     "text": [
      "INFO:tensorflow:/home/alessandro/Documents/book/machine_learning/src/neural/rete is not in all_model_checkpoint_paths. Manually adding it.\n"
     ]
    }
   ],
   "source": [
    "modello.save(\"rete\")\n",
    "conn.commit()\n",
    "conn.close()"
   ]
  },
  {
   "cell_type": "code",
   "execution_count": 32,
   "metadata": {},
   "outputs": [
    {
     "name": "stdout",
     "output_type": "stream",
     "text": [
      "INFO:tensorflow:Restoring parameters from /home/alessandro/Documents/book/machine_learning/src/neural/rete\n",
      "['menu', 'introduzione']\n"
     ]
    },
    {
     "data": {
      "text/plain": [
       "\"Forniamo un'ampia scelta di piatti, guardi il menu direttamente sul sito [link]\""
      ]
     },
     "execution_count": 32,
     "metadata": {},
     "output_type": "execute_result"
    }
   ],
   "source": [
    "modello.load(\"./rete\")\n",
    "conn = sqlite3.connect(database)\n",
    "cursor = conn.cursor()\n",
    "rispondi(modello, \"Quali piatti consigliate oggi?\")"
   ]
  },
  {
   "cell_type": "code",
   "execution_count": 33,
   "metadata": {},
   "outputs": [
    {
     "name": "stdout",
     "output_type": "stream",
     "text": [
      "['introduzione']\n"
     ]
    },
    {
     "data": {
      "text/plain": [
       "'Salve, serve aiuto?'"
      ]
     },
     "execution_count": 33,
     "metadata": {},
     "output_type": "execute_result"
    }
   ],
   "source": [
    "rispondi(modello, \"Salve\")"
   ]
  },
  {
   "cell_type": "code",
   "execution_count": null,
   "metadata": {
    "collapsed": true
   },
   "outputs": [],
   "source": []
  }
 ],
 "metadata": {
  "anaconda-cloud": {},
  "kernelspec": {
   "display_name": "Python 3",
   "language": "python",
   "name": "python3"
  },
  "language_info": {
   "codemirror_mode": {
    "name": "ipython",
    "version": 3
   },
   "file_extension": ".py",
   "mimetype": "text/x-python",
   "name": "python",
   "nbconvert_exporter": "python",
   "pygments_lexer": "ipython3",
   "version": "3.6.2"
  }
 },
 "nbformat": 4,
 "nbformat_minor": 2
}
